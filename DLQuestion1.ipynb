{
  "nbformat": 4,
  "nbformat_minor": 0,
  "metadata": {
    "colab": {
      "name": "DLQuestion1.ipynb",
      "provenance": [],
      "authorship_tag": "ABX9TyNfcuDhMd0Oig7CWJALFVeh",
      "include_colab_link": true
    },
    "kernelspec": {
      "name": "python3",
      "display_name": "Python 3"
    }
  },
  "cells": [
    {
      "cell_type": "markdown",
      "metadata": {
        "id": "view-in-github",
        "colab_type": "text"
      },
      "source": [
        "<a href=\"https://colab.research.google.com/github/shireesha27/demo/blob/master/DLQuestion1.ipynb\" target=\"_parent\"><img src=\"https://colab.research.google.com/assets/colab-badge.svg\" alt=\"Open In Colab\"/></a>"
      ]
    },
    {
      "cell_type": "code",
      "metadata": {
        "id": "boT1C7Y0Bx2W"
      },
      "source": [
        "# Importing neccessary libraries\n",
        "# Python program using numpy for arranging a given set of data into a table\n",
        "# Data processing to read CSV file \n",
        "import pandas as pd \n",
        "# Keras is the neural network library\n",
        "from keras.preprocessing.text import Tokenizer\n",
        "from keras.preprocessing.sequence import pad_sequences\n",
        "# From keras.models import sequential model\n",
        "from keras.models import Sequential\n",
        "from keras.layers import Dense, Embedding, LSTM, SpatialDropout1D\n",
        "# Python program using Matplotib for forming a linear plot\n",
        "from matplotlib import pyplot\n",
        "# Importing the library for splitting the data\n",
        "from sklearn.model_selection import train_test_split\n",
        "# Importing one hot encoding library\n",
        "from keras.utils.np_utils import to_categorical\n",
        "import re\n",
        "# importing preprocessing library\n",
        "from sklearn.preprocessing import LabelEncoder\n",
        "from keras.models import load_model\n",
        "from keras.models import model_from_json"
      ],
      "execution_count": 75,
      "outputs": []
    },
    {
      "cell_type": "code",
      "metadata": {
        "id": "CdX9b17BgCae"
      },
      "source": [
        "# Reading the data from sentiment.csv file\n",
        "data = pd.read_csv('Sentiment.csv')\n",
        "# Keeping only the neccessary columns\n",
        "data = data[['text','sentiment']]"
      ],
      "execution_count": 76,
      "outputs": []
    },
    {
      "cell_type": "code",
      "metadata": {
        "colab": {
          "base_uri": "https://localhost:8080/",
          "height": 297
        },
        "id": "S0c27wbCgCgr",
        "outputId": "24ac6ae7-0af0-46d7-fe87-9bc78c7a5c85"
      },
      "source": [
        "# This syntax is using to the data which has unnecessary things from text and convert them to lowercase\n",
        "data['text'] = data['text'].apply(lambda x: x.lower())\n",
        "data['text'] = data['text'].apply((lambda x: re.sub('[^a-zA-z0-9\\s]', '', x)))\n",
        "data.head(8)"
      ],
      "execution_count": 77,
      "outputs": [
        {
          "output_type": "execute_result",
          "data": {
            "text/html": [
              "<div>\n",
              "<style scoped>\n",
              "    .dataframe tbody tr th:only-of-type {\n",
              "        vertical-align: middle;\n",
              "    }\n",
              "\n",
              "    .dataframe tbody tr th {\n",
              "        vertical-align: top;\n",
              "    }\n",
              "\n",
              "    .dataframe thead th {\n",
              "        text-align: right;\n",
              "    }\n",
              "</style>\n",
              "<table border=\"1\" class=\"dataframe\">\n",
              "  <thead>\n",
              "    <tr style=\"text-align: right;\">\n",
              "      <th></th>\n",
              "      <th>text</th>\n",
              "      <th>sentiment</th>\n",
              "    </tr>\n",
              "  </thead>\n",
              "  <tbody>\n",
              "    <tr>\n",
              "      <th>0</th>\n",
              "      <td>rt nancyleegrahn how did everyone feel about t...</td>\n",
              "      <td>Neutral</td>\n",
              "    </tr>\n",
              "    <tr>\n",
              "      <th>1</th>\n",
              "      <td>rt scottwalker didnt catch the full gopdebate ...</td>\n",
              "      <td>Positive</td>\n",
              "    </tr>\n",
              "    <tr>\n",
              "      <th>2</th>\n",
              "      <td>rt tjmshow no mention of tamir rice and the go...</td>\n",
              "      <td>Neutral</td>\n",
              "    </tr>\n",
              "    <tr>\n",
              "      <th>3</th>\n",
              "      <td>rt robgeorge that carly fiorina is trending  h...</td>\n",
              "      <td>Positive</td>\n",
              "    </tr>\n",
              "    <tr>\n",
              "      <th>4</th>\n",
              "      <td>rt danscavino gopdebate w realdonaldtrump deli...</td>\n",
              "      <td>Positive</td>\n",
              "    </tr>\n",
              "    <tr>\n",
              "      <th>5</th>\n",
              "      <td>rt gregabbott_tx tedcruz on my first day i wil...</td>\n",
              "      <td>Positive</td>\n",
              "    </tr>\n",
              "    <tr>\n",
              "      <th>6</th>\n",
              "      <td>rt warriorwoman91 i liked her and was happy wh...</td>\n",
              "      <td>Negative</td>\n",
              "    </tr>\n",
              "    <tr>\n",
              "      <th>7</th>\n",
              "      <td>going on msnbc live with thomasaroberts around...</td>\n",
              "      <td>Neutral</td>\n",
              "    </tr>\n",
              "  </tbody>\n",
              "</table>\n",
              "</div>"
            ],
            "text/plain": [
              "                                                text sentiment\n",
              "0  rt nancyleegrahn how did everyone feel about t...   Neutral\n",
              "1  rt scottwalker didnt catch the full gopdebate ...  Positive\n",
              "2  rt tjmshow no mention of tamir rice and the go...   Neutral\n",
              "3  rt robgeorge that carly fiorina is trending  h...  Positive\n",
              "4  rt danscavino gopdebate w realdonaldtrump deli...  Positive\n",
              "5  rt gregabbott_tx tedcruz on my first day i wil...  Positive\n",
              "6  rt warriorwoman91 i liked her and was happy wh...  Negative\n",
              "7  going on msnbc live with thomasaroberts around...   Neutral"
            ]
          },
          "metadata": {
            "tags": []
          },
          "execution_count": 77
        }
      ]
    },
    {
      "cell_type": "code",
      "metadata": {
        "colab": {
          "base_uri": "https://localhost:8080/"
        },
        "id": "H3aDXiRJgCif",
        "outputId": "6825457f-8c5b-40c6-d2cb-3f77d28cf10e"
      },
      "source": [
        "for idx, row in data.iterrows():\n",
        "    row[0] = row[0].replace('rt', ' ')\n",
        "\n",
        "max_fatures = 2000\n",
        "# Tokenizing the data and convert the text to sequences.\n",
        "tokenizer = Tokenizer(num_words=max_fatures, split=' ')\n",
        "tokenizer.fit_on_texts(data['text'].values)\n",
        "X = tokenizer.texts_to_sequences(data['text'].values)\n",
        "# Addition of padding to ensure that all the sequences have the same shape.\n",
        "X = pad_sequences(X)\n",
        "print(X)\n"
      ],
      "execution_count": 78,
      "outputs": [
        {
          "output_type": "stream",
          "text": [
            "[[   0    0    0 ...   51 1039    1]\n",
            " [   0    0    0 ... 1577 1356  847]\n",
            " [   0    0    0 ...   10  696  518]\n",
            " ...\n",
            " [   0    0    0 ...   68   62    3]\n",
            " [   0    0    0 ... 1112 1588   81]\n",
            " [   0    0    0 ...  196    3  880]]\n"
          ],
          "name": "stdout"
        }
      ]
    },
    {
      "cell_type": "code",
      "metadata": {
        "id": "lgGCFZ1FgCmk"
      },
      "source": [
        "embed_dim = 128\n",
        "lstm_out = 196\n",
        "# Function to create a model\n",
        "def createmodel():\n",
        "    # Creating a model\n",
        "    model = Sequential()\n",
        "    # embed_dim, lstm_out, batch_size, droupout_x variables are hyperparameters.\n",
        "    # these parameters helps to achieve good results\n",
        "    model.add(Embedding(max_fatures, embed_dim,input_length = X.shape[1]))\n",
        "    model.add(LSTM(lstm_out, dropout=0.2, recurrent_dropout=0.2))\n",
        "    model.add(Dense(3,activation='softmax'))\n",
        "    # Compiling the model\n",
        "    model.compile(loss = 'categorical_crossentropy', optimizer='adam',metrics = ['accuracy'])\n",
        "    return model\n",
        "    print(model.summary())"
      ],
      "execution_count": 79,
      "outputs": []
    },
    {
      "cell_type": "code",
      "metadata": {
        "colab": {
          "base_uri": "https://localhost:8080/"
        },
        "id": "q_Q6JN1FgCoV",
        "outputId": "331861e0-6b7b-43e3-d7c5-8c56dd644262"
      },
      "source": [
        "# LabelEncoder to encode the text into categorical integer values\n",
        "labelencoder = LabelEncoder()\n",
        "integer_encoded = labelencoder.fit_transform(data['sentiment'])\n",
        "# One-hot-encoder \n",
        "# utils.to_categorical is used to convert array of labeled data to one-hot vector\n",
        "y = to_categorical(integer_encoded)\n",
        "# Splitting the dataset into test and train data\n",
        "X_train, X_test, Y_train, Y_test = train_test_split(X,y, test_size = 0.33, random_state = 42)\n",
        "print(X_train.shape,Y_train.shape)\n",
        "print(X_test.shape,Y_test.shape)\n"
      ],
      "execution_count": 80,
      "outputs": [
        {
          "output_type": "stream",
          "text": [
            "(9293, 28) (9293, 3)\n",
            "(4578, 28) (4578, 3)\n"
          ],
          "name": "stdout"
        }
      ]
    },
    {
      "cell_type": "code",
      "metadata": {
        "colab": {
          "base_uri": "https://localhost:8080/"
        },
        "id": "FL672wPygCsW",
        "outputId": "44772420-17d4-4588-9a56-50840c15d22c"
      },
      "source": [
        "batch_size = 40\n",
        "model = createmodel()\n",
        "# Model.fit() using to padded training data and validating the data.\n",
        "# epochs is used to  Number of times the learning algorithm will work through the entire training data set\n",
        "history= model.fit(X_train, Y_train, epochs = 5, batch_size=batch_size, verbose = 2)\n",
        "# Evaluating the model\n",
        "score,acc = model.evaluate(X_test,Y_test,verbose=2,batch_size=batch_size)\n",
        "print(score)\n",
        "print(acc)\n",
        "print(model.metrics_names)"
      ],
      "execution_count": 81,
      "outputs": [
        {
          "output_type": "stream",
          "text": [
            "Epoch 1/5\n",
            "233/233 - 37s - loss: 0.8338 - accuracy: 0.6424\n",
            "Epoch 2/5\n",
            "233/233 - 37s - loss: 0.6784 - accuracy: 0.7049\n",
            "Epoch 3/5\n",
            "233/233 - 37s - loss: 0.6154 - accuracy: 0.7399\n",
            "Epoch 4/5\n",
            "233/233 - 38s - loss: 0.5664 - accuracy: 0.7637\n",
            "Epoch 5/5\n",
            "233/233 - 37s - loss: 0.5257 - accuracy: 0.7791\n",
            "115/115 - 2s - loss: 0.8102 - accuracy: 0.6584\n",
            "0.8101969361305237\n",
            "0.6583660840988159\n",
            "['loss', 'accuracy']\n"
          ],
          "name": "stdout"
        }
      ]
    },
    {
      "cell_type": "code",
      "metadata": {
        "colab": {
          "base_uri": "https://localhost:8080/"
        },
        "id": "Nd9rsvCLu1Qn",
        "outputId": "ade6858b-6765-4448-d12a-4a5b8b79308b"
      },
      "source": [
        "# serialize model to JSON\n",
        "model_json = model.to_json()\n",
        "with open(\"model.json\", \"w\") as json_file:\n",
        "    json_file.write(model_json)\n",
        "# serialize weights to HDF5\n",
        "model.save_weights(\"model.h5\")\n",
        "print(\"Saved model to disk\")"
      ],
      "execution_count": 82,
      "outputs": [
        {
          "output_type": "stream",
          "text": [
            "Saved model to disk\n"
          ],
          "name": "stdout"
        }
      ]
    },
    {
      "cell_type": "code",
      "metadata": {
        "colab": {
          "base_uri": "https://localhost:8080/"
        },
        "id": "GQ1I7aNaKWJr",
        "outputId": "4e1b3ed5-283a-4d20-b6fb-3004112308de"
      },
      "source": [
        "# load json and create model\n",
        "json_file = open('model.json', 'r')\n",
        "loaded_model_json = json_file.read()\n",
        "json_file.close()\n",
        "loaded_model = model_from_json(loaded_model_json)\n",
        "# load weights into new model\n",
        "loaded_model.load_weights(\"model.h5\")\n",
        "print(\"Loaded model from disk\")"
      ],
      "execution_count": 83,
      "outputs": [
        {
          "output_type": "stream",
          "text": [
            "Loaded model from disk\n"
          ],
          "name": "stdout"
        }
      ]
    },
    {
      "cell_type": "code",
      "metadata": {
        "colab": {
          "base_uri": "https://localhost:8080/"
        },
        "id": "nnF06xY-Kbpp",
        "outputId": "a06a89db-9556-4145-e046-3ece0ca7e155"
      },
      "source": [
        "#evaluate model\n",
        "loaded_model.compile(loss='categorical_crossentropy', optimizer='adam', metrics=['accuracy'])\n",
        "score = loaded_model.evaluate(X, y, verbose=0)\n",
        "print(\"%s: %.2f%%\" % (loaded_model.metrics_names[1], score[1] * 100))"
      ],
      "execution_count": 84,
      "outputs": [
        {
          "output_type": "stream",
          "text": [
            "accuracy: 77.28%\n"
          ],
          "name": "stdout"
        }
      ]
    },
    {
      "cell_type": "code",
      "metadata": {
        "colab": {
          "base_uri": "https://localhost:8080/"
        },
        "id": "46Y73EWplE6H",
        "outputId": "1d3f58c5-1b8e-45bc-d4a9-be3599a4b951"
      },
      "source": [
        "import numpy as np\n",
        "tweet = ['A lot of good things are happening. We are respected again throughout the world, and that is a great thing.@realDonaldTrump']\n",
        "# Vectorizing the tweet by the pre-fitted tokenizer instance\n",
        "tweet = tokenizer.texts_to_sequences(tweet)\n",
        "# Padding the tweet to have exactly the same shape as `embedding_2` input\n",
        "tweet = pad_sequences(tweet, maxlen=28, dtype='int32', value=0)\n",
        "print(tweet)\n",
        "sentiment = model.predict(twt,batch_size=1,verbose = 2)[0]\n",
        "print(sentiment)\n",
        "loaded_model.predict(twt,batch_size=1,verbose = 2)"
      ],
      "execution_count": 85,
      "outputs": [
        {
          "output_type": "stream",
          "text": [
            "[[  0   0   0   0   0   0   0   0   0   0   7 445   5 146 292  35  30  35\n",
            "  371   2 349   8  17   6   7 153 265  23]]\n",
            "WARNING:tensorflow:7 out of the last 12 calls to <function Model.make_predict_function.<locals>.predict_function at 0x7f15f0ec9620> triggered tf.function retracing. Tracing is expensive and the excessive number of tracings could be due to (1) creating @tf.function repeatedly in a loop, (2) passing tensors with different shapes, (3) passing Python objects instead of tensors. For (1), please define your @tf.function outside of the loop. For (2), @tf.function has experimental_relax_shapes=True option that relaxes argument shapes that can avoid unnecessary retracing. For (3), please refer to https://www.tensorflow.org/tutorials/customization/performance#python_or_tensor_args and https://www.tensorflow.org/api_docs/python/tf/function for  more details.\n",
            "1/1 - 0s\n",
            "[0.13154082 0.03524611 0.8332131 ]\n",
            "WARNING:tensorflow:7 out of the last 11 calls to <function Model.make_predict_function.<locals>.predict_function at 0x7f15f0dc9268> triggered tf.function retracing. Tracing is expensive and the excessive number of tracings could be due to (1) creating @tf.function repeatedly in a loop, (2) passing tensors with different shapes, (3) passing Python objects instead of tensors. For (1), please define your @tf.function outside of the loop. For (2), @tf.function has experimental_relax_shapes=True option that relaxes argument shapes that can avoid unnecessary retracing. For (3), please refer to https://www.tensorflow.org/tutorials/customization/performance#python_or_tensor_args and https://www.tensorflow.org/api_docs/python/tf/function for  more details.\n",
            "1/1 - 0s\n"
          ],
          "name": "stdout"
        },
        {
          "output_type": "execute_result",
          "data": {
            "text/plain": [
              "array([[0.13154082, 0.03524611, 0.8332131 ]], dtype=float32)"
            ]
          },
          "metadata": {
            "tags": []
          },
          "execution_count": 85
        }
      ]
    },
    {
      "cell_type": "code",
      "metadata": {
        "colab": {
          "base_uri": "https://localhost:8080/",
          "height": 312
        },
        "id": "uWgXNqyWod2c",
        "outputId": "fea5681b-f7a1-47db-ba08-890d839eb65f"
      },
      "source": [
        "# Bonus Question:\n",
        "# Printing the keys from history.\n",
        "print(history.history.keys())\n",
        "# Analyze by visualizing data.\n",
        "# Summarize history for an accuracy.\n",
        "pyplot.plot(history.history['accuracy'])\n",
        "pyplot.title('Model accuracy')\n",
        "pyplot.ylabel('Accuracy')\n",
        "pyplot.xlabel('epoch')\n",
        "pyplot.legend(['train'], loc= 'upper left')\n",
        "pyplot.show()\n"
      ],
      "execution_count": 86,
      "outputs": [
        {
          "output_type": "stream",
          "text": [
            "dict_keys(['loss', 'accuracy'])\n"
          ],
          "name": "stdout"
        },
        {
          "output_type": "display_data",
          "data": {
            "image/png": "[encoded data removed]",
            "text/plain": [
              "<Figure size 432x288 with 1 Axes>"
            ]
          },
          "metadata": {
            "tags": [],
            "needs_background": "light"
          }
        }
      ]
    },
    {
      "cell_type": "code",
      "metadata": {
        "id": "U4L2sHBUoeAf",
        "colab": {
          "base_uri": "https://localhost:8080/",
          "height": 295
        },
        "outputId": "5fb6df54-2e72-43f4-a5ad-a66fb446674e"
      },
      "source": [
        "# Summarize history for the loss.\n",
        "pyplot.plot(history.history['loss'])\n",
        "pyplot.title('Model loss')\n",
        "pyplot.xlabel('epoch')\n",
        "pyplot.ylabel('Loss')\n",
        "pyplot.legend(['train'], loc= 'upper left')\n",
        "pyplot.show()"
      ],
      "execution_count": 87,
      "outputs": [
        {
          "output_type": "display_data",
          "data": {
            "image/png": "[encoded data removed]",
            "text/plain": [
              "<Figure size 432x288 with 1 Axes>"
            ]
          },
          "metadata": {
            "tags": [],
            "needs_background": "light"
          }
        }
      ]
    }
  ]
}