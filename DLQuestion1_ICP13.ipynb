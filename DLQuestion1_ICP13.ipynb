{
  "nbformat": 4,
  "nbformat_minor": 0,
  "metadata": {
    "colab": {
      "name": "DLQuestion1-ICP13.ipynb",
      "provenance": [],
      "authorship_tag": "ABX9TyPmGCGM41zU5j3OFK4pJzBd",
      "include_colab_link": true
    },
    "kernelspec": {
      "name": "python3",
      "display_name": "Python 3"
    },
    "accelerator": "GPU"
  },
  "cells": [
    {
      "cell_type": "markdown",
      "metadata": {
        "id": "view-in-github",
        "colab_type": "text"
      },
      "source": [
        "<a href=\"https://colab.research.google.com/github/shireesha27/demo/blob/master/DLQuestion1_ICP13.ipynb\" target=\"_parent\"><img src=\"https://colab.research.google.com/assets/colab-badge.svg\" alt=\"Open In Colab\"/></a>"
      ]
    },
    {
      "cell_type": "markdown",
      "metadata": {
        "id": "EuHMbmxq0LzF"
      },
      "source": [
        "**Source code**"
      ]
    },
    {
      "cell_type": "code",
      "metadata": {
        "id": "qBhK-7NqVtBO"
      },
      "source": [
        "from keras.layers import Input, Dense\n",
        "from keras.models import Model"
      ],
      "execution_count": 37,
      "outputs": []
    },
    {
      "cell_type": "code",
      "metadata": {
        "id": "9vUvyGF0VuT_"
      },
      "source": [
        "# This is the size of our encoded representations\n",
        "# 32 floats -> compression of factor 24.5, assuming the input is 784 floats\n",
        "encoding_dim = 32  \n",
        "# this is our input placeholder\n",
        "input_img = Input(shape=(784,))\n",
        "# \"encoded\" is the encoded representation of the input\n",
        "encoded = Dense(encoding_dim, activation='relu')(input_img)\n",
        "# \"decoded\" is the lossy reconstruction of the input\n",
        "decoded = Dense(784, activation='sigmoid')(encoded)\n",
        "# this model maps an input to its reconstruction\n",
        "autoencoder = Model(input_img, decoded)\n",
        "# this model maps an input to its encoded representation\n",
        "autoencoder.compile(optimizer='adadelta', loss='binary_crossentropy', metrics=['accuracy'])"
      ],
      "execution_count": 38,
      "outputs": []
    },
    {
      "cell_type": "code",
      "metadata": {
        "id": "RKdhBgKsVudX"
      },
      "source": [
        "from keras.datasets import mnist, fashion_mnist\n",
        "import numpy as np\n",
        "# load the dataset\n",
        "(x_train, y_train), (x_test, y_test) = fashion_mnist.load_data()\n",
        "# normalize values between 0 and 1\n",
        "x_train = x_train.astype('float32') / 255.\n",
        "x_test = x_test.astype('float32') / 255.\n",
        "x_train = x_train.reshape((len(x_train), np.prod(x_train.shape[1:])))\n",
        "x_test = x_test.reshape((len(x_test), np.prod(x_test.shape[1:])))"
      ],
      "execution_count": 39,
      "outputs": []
    },
    {
      "cell_type": "code",
      "metadata": {
        "colab": {
          "base_uri": "https://localhost:8080/"
        },
        "id": "xHtNWlAIVug8",
        "outputId": "981a7453-8141-4967-8144-578180eb37ec"
      },
      "source": [
        "history = autoencoder.fit(x_train, x_train,\n",
        "                epochs=5,\n",
        "                batch_size=256,\n",
        "                shuffle=True,\n",
        "                validation_data=(x_test, x_test))"
      ],
      "execution_count": 40,
      "outputs": [
        {
          "output_type": "stream",
          "text": [
            "Epoch 1/5\n",
            "235/235 [==============================] - 1s 4ms/step - loss: 0.6959 - accuracy: 8.5000e-04 - val_loss: 0.6958 - val_accuracy: 7.0000e-04\n",
            "Epoch 2/5\n",
            "235/235 [==============================] - 1s 4ms/step - loss: 0.6956 - accuracy: 8.0000e-04 - val_loss: 0.6955 - val_accuracy: 7.0000e-04\n",
            "Epoch 3/5\n",
            "235/235 [==============================] - 1s 4ms/step - loss: 0.6953 - accuracy: 8.1667e-04 - val_loss: 0.6952 - val_accuracy: 7.0000e-04\n",
            "Epoch 4/5\n",
            "235/235 [==============================] - 1s 4ms/step - loss: 0.6950 - accuracy: 8.5000e-04 - val_loss: 0.6949 - val_accuracy: 9.0000e-04\n",
            "Epoch 5/5\n",
            "235/235 [==============================] - 1s 4ms/step - loss: 0.6947 - accuracy: 8.8333e-04 - val_loss: 0.6946 - val_accuracy: 8.0000e-04\n"
          ],
          "name": "stdout"
        }
      ]
    },
    {
      "cell_type": "markdown",
      "metadata": {
        "id": "aj2NVhiafoLm"
      },
      "source": [
        "**Question1:**\n",
        "\n",
        "**Add one more hidden layer to autoencoder**"
      ]
    },
    {
      "cell_type": "code",
      "metadata": {
        "id": "D2Xc9TVPaN7b"
      },
      "source": [
        "# Importing the neccessary libraries from keras\n",
        "from keras.layers import Input, Dense\n",
        "from keras.models import Model"
      ],
      "execution_count": 41,
      "outputs": []
    },
    {
      "cell_type": "code",
      "metadata": {
        "colab": {
          "base_uri": "https://localhost:8080/"
        },
        "id": "CUjlmCcRahf6",
        "outputId": "62ef3596-44ed-4a73-8a53-b5ef5e1f6cc7"
      },
      "source": [
        "# this is our input placeholder\n",
        "encoding_dim = 32\n",
        "input_img = Input(shape=(784,))\n",
        "# \"encoded\" is the encoded representation of the input\n",
        "encoded = Dense(encoding_dim, activation='relu')(input_img)\n",
        "# Adding the hidden layer 32 units with 'relu' activation function\n",
        "hidden_1 = Dense(32, activation='relu')(encoded)\n",
        "# \"decoded\" is the lossy reconstruction of the input\n",
        "decoded = Dense(784, activation='sigmoid')(hidden_1)\n",
        "# this model maps an input to its reconstruction\n",
        "autoencoder = Model(input_img, decoded)\n",
        "# view the different layers of an autoencoder model\n",
        "autoencoder.summary()\n",
        "# this model maps an input to its encoded representation\n",
        "encoder = Model(input_img, encoded)\n",
        "# view the different layers of an encoder model\n",
        "encoder.summary()\n",
        "# create a placeholder for an encoded (32-dimensional) input\n",
        "encoded_input = Input(shape=(encoding_dim,))\n",
        "# retrieve the last layer of the autoencoder model\n",
        "decoder_layer = autoencoder.layers[-1]\n",
        "# create the decoder model\n",
        "decoder = Model(encoded_input, decoder_layer(encoded_input))\n",
        "# metrics uses for the performance of the model is accuracy\n",
        "autoencoder.compile(optimizer='adadelta', loss='binary_crossentropy', metrics=['accuracy'])"
      ],
      "execution_count": 42,
      "outputs": [
        {
          "output_type": "stream",
          "text": [
            "Model: \"functional_32\"\n",
            "_________________________________________________________________\n",
            "Layer (type)                 Output Shape              Param #   \n",
            "=================================================================\n",
            "input_16 (InputLayer)        [(None, 784)]             0         \n",
            "_________________________________________________________________\n",
            "dense_30 (Dense)             (None, 32)                25120     \n",
            "_________________________________________________________________\n",
            "dense_31 (Dense)             (None, 32)                1056      \n",
            "_________________________________________________________________\n",
            "dense_32 (Dense)             (None, 784)               25872     \n",
            "=================================================================\n",
            "Total params: 52,048\n",
            "Trainable params: 52,048\n",
            "Non-trainable params: 0\n",
            "_________________________________________________________________\n",
            "Model: \"functional_34\"\n",
            "_________________________________________________________________\n",
            "Layer (type)                 Output Shape              Param #   \n",
            "=================================================================\n",
            "input_16 (InputLayer)        [(None, 784)]             0         \n",
            "_________________________________________________________________\n",
            "dense_30 (Dense)             (None, 32)                25120     \n",
            "=================================================================\n",
            "Total params: 25,120\n",
            "Trainable params: 25,120\n",
            "Non-trainable params: 0\n",
            "_________________________________________________________________\n"
          ],
          "name": "stdout"
        }
      ]
    },
    {
      "cell_type": "markdown",
      "metadata": {
        "id": "JOzerY5ewZ4s"
      },
      "source": [
        "We created the encoder and the decoder.\n",
        "\n",
        "Input image has been Encoded to 32 units and relu activation function.\n",
        "\n",
        "Decoder has 784 units and it reconstructs the input image back to its original.\n",
        " dimension.\n",
        "\n",
        "autoencoder used sigmoid activation function. \n"
      ]
    },
    {
      "cell_type": "code",
      "metadata": {
        "colab": {
          "base_uri": "https://localhost:8080/"
        },
        "id": "DKo9MtD3alpB",
        "outputId": "43aa0740-a6f5-4c59-ceaa-f8419b0a320e"
      },
      "source": [
        "# Reading the dataset\n",
        "from keras.datasets import mnist, fashion_mnist\n",
        "import numpy as np\n",
        "(x_train, y_train), (x_test, y_test) = fashion_mnist.load_data()\n",
        "# Normalizing the values between 0 and 1\n",
        "x_train = x_train.astype('float32') / 255.\n",
        "x_test = x_test.astype('float32') / 255.\n",
        "# Flatten the 28*28 into vectors of size 784\n",
        "x_train = x_train.reshape((len(x_train), np.prod(x_train.shape[1:])))\n",
        "x_test = x_test.reshape((len(x_test), np.prod(x_test.shape[1:])))\n",
        "print('train samples:', x_train.shape)\n",
        "print('test samples:', x_test.shape)"
      ],
      "execution_count": 43,
      "outputs": [
        {
          "output_type": "stream",
          "text": [
            "train samples: (60000, 784)\n",
            "test samples: (10000, 784)\n"
          ],
          "name": "stdout"
        }
      ]
    },
    {
      "cell_type": "markdown",
      "metadata": {
        "id": "NjPjTP_bv0gg"
      },
      "source": [
        "We normalized all values between 0 and 1 and we flatten the 28x28 images into vectors of size 784."
      ]
    },
    {
      "cell_type": "code",
      "metadata": {
        "colab": {
          "base_uri": "https://localhost:8080/"
        },
        "id": "09iiz03SapRf",
        "outputId": "20db67ad-dbcf-46f7-b4c6-2077d8b7aec7"
      },
      "source": [
        "# Trained the autoencoder using the training data with 5 epochs and batch size of 256. And, also shuffle the training data.\n",
        "history = autoencoder.fit(x_train, x_train,\n",
        "                epochs=5,\n",
        "                batch_size=256,\n",
        "                shuffle=True,\n",
        "                validation_data=(x_test, x_test))"
      ],
      "execution_count": 44,
      "outputs": [
        {
          "output_type": "stream",
          "text": [
            "Epoch 1/5\n",
            "235/235 [==============================] - 1s 4ms/step - loss: 0.6943 - accuracy: 0.0061 - val_loss: 0.6942 - val_accuracy: 0.0063\n",
            "Epoch 2/5\n",
            "235/235 [==============================] - 1s 4ms/step - loss: 0.6942 - accuracy: 0.0065 - val_loss: 0.6941 - val_accuracy: 0.0065\n",
            "Epoch 3/5\n",
            "235/235 [==============================] - 1s 4ms/step - loss: 0.6940 - accuracy: 0.0068 - val_loss: 0.6939 - val_accuracy: 0.0068\n",
            "Epoch 4/5\n",
            "235/235 [==============================] - 1s 4ms/step - loss: 0.6939 - accuracy: 0.0072 - val_loss: 0.6938 - val_accuracy: 0.0069\n",
            "Epoch 5/5\n",
            "235/235 [==============================] - 1s 4ms/step - loss: 0.6937 - accuracy: 0.0074 - val_loss: 0.6936 - val_accuracy: 0.0073\n"
          ],
          "name": "stdout"
        }
      ]
    },
    {
      "cell_type": "markdown",
      "metadata": {
        "id": "iG_eWICXyLmK"
      },
      "source": [
        "**Question 2:**\n",
        "\n",
        "**Do the prediction on the test data and then visualize one of the reconstructed version of that test data. Also, visualize the same test data before reconstruction using Matplotli**b"
      ]
    },
    {
      "cell_type": "code",
      "metadata": {
        "id": "jiiPMAyeLyl2"
      },
      "source": [
        "# Predicting an image of the test data\n",
        "prediction = autoencoder.predict(x_test[[6],:])\n"
      ],
      "execution_count": 45,
      "outputs": []
    },
    {
      "cell_type": "code",
      "metadata": {
        "colab": {
          "base_uri": "https://localhost:8080/",
          "height": 264
        },
        "id": "b6KeNor-LyxM",
        "outputId": "92971022-1492-4a1f-8c9a-5133e580a32e"
      },
      "source": [
        "# input Image\n",
        "from matplotlib import pyplot as plt\n",
        "plt.imshow(x_test[6].reshape(28,28))\n",
        "plt.show()"
      ],
      "execution_count": 46,
      "outputs": [
        {
          "output_type": "display_data",
          "data": {
            "image/png": "[encoded data removed]",
            "text/plain": [
              "<Figure size 432x288 with 1 Axes>"
            ]
          },
          "metadata": {
            "tags": [],
            "needs_background": "light"
          }
        }
      ]
    },
    {
      "cell_type": "code",
      "metadata": {
        "colab": {
          "base_uri": "https://localhost:8080/",
          "height": 264
        },
        "id": "ZvFE-mDZLzBK",
        "outputId": "a5579b22-2c56-486f-aa0a-8e3c28de6f93"
      },
      "source": [
        "# Reconstructed image\n",
        "from matplotlib import pyplot as plt\n",
        "plt.imshow(prediction[0].reshape(28,28))\n",
        "plt.show()"
      ],
      "execution_count": 47,
      "outputs": [
        {
          "output_type": "display_data",
          "data": {
            "image/png": "[encoded data removed]",
            "text/plain": [
              "<Figure size 432x288 with 1 Axes>"
            ]
          },
          "metadata": {
            "tags": [],
            "needs_background": "light"
          }
        }
      ]
    },
    {
      "cell_type": "markdown",
      "metadata": {
        "id": "GcfJ6iUBxzIi"
      },
      "source": [
        "**Question4:**\n",
        "\n",
        "**plot loss and accuracy using the history object**"
      ]
    },
    {
      "cell_type": "code",
      "metadata": {
        "colab": {
          "base_uri": "https://localhost:8080/",
          "height": 294
        },
        "id": "cQ6GH5OoYTTt",
        "outputId": "0e53d201-145a-4f70-ae9d-e2c713a80d65"
      },
      "source": [
        "# Summerize the history of the accuracy\n",
        "plt.plot(history.history['accuracy'])\n",
        "plt.plot(history.history['val_accuracy'])\n",
        "plt.title('model accuracy')\n",
        "plt.ylabel('accuracy')\n",
        "plt.xlabel('epoch')\n",
        "plt.legend(['train', 'test'], loc='upper left')\n",
        "plt.show()"
      ],
      "execution_count": 48,
      "outputs": [
        {
          "output_type": "display_data",
          "data": {
            "image/png": "[encoded data removed]",
            "text/plain": [
              "<Figure size 432x288 with 1 Axes>"
            ]
          },
          "metadata": {
            "tags": [],
            "needs_background": "light"
          }
        }
      ]
    },
    {
      "cell_type": "code",
      "metadata": {
        "colab": {
          "base_uri": "https://localhost:8080/",
          "height": 294
        },
        "id": "H5Pk2vSUYTav",
        "outputId": "c3e7a50f-bb1e-4646-a834-c6a4b4859274"
      },
      "source": [
        "# Summerize the history of the Loss\n",
        "plt.plot(history.history['loss'])\n",
        "plt.plot(history.history['val_loss'])\n",
        "plt.title('model loss')\n",
        "plt.ylabel('loss')\n",
        "plt.xlabel('epoch')\n",
        "plt.legend(['train', 'test'], loc='upper left')\n",
        "plt.show()"
      ],
      "execution_count": 49,
      "outputs": [
        {
          "output_type": "display_data",
          "data": {
            "image/png": "[encoded data removed]",
            "text/plain": [
              "<Figure size 432x288 with 1 Axes>"
            ]
          },
          "metadata": {
            "tags": [],
            "needs_background": "light"
          }
        }
      ]
    }
  ]
}