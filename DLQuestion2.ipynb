{
  "nbformat": 4,
  "nbformat_minor": 0,
  "metadata": {
    "colab": {
      "name": "DLQuestion2.ipynb",
      "provenance": [],
      "authorship_tag": "ABX9TyOyIObf3kAQD1c2z7GloRbF",
      "include_colab_link": true
    },
    "kernelspec": {
      "name": "python3",
      "display_name": "Python 3"
    },
    "accelerator": "TPU"
  },
  "cells": [
    {
      "cell_type": "markdown",
      "metadata": {
        "id": "view-in-github",
        "colab_type": "text"
      },
      "source": [
        "<a href=\"https://colab.research.google.com/github/shireesha27/demo/blob/master/DLQuestion2.ipynb\" target=\"_parent\"><img src=\"https://colab.research.google.com/assets/colab-badge.svg\" alt=\"Open In Colab\"/></a>"
      ]
    },
    {
      "cell_type": "code",
      "metadata": {
        "id": "tz4GpXX440kh"
      },
      "source": [
        "# Importing neccessary libraries\n",
        "# Python program using numpy for arranging a given set of data into a table\n",
        "# Data processing to read CSV file \n",
        "import pandas as pd \n",
        "# Keras is the neural network library\n",
        "from keras.preprocessing.text import Tokenizer\n",
        "from keras.preprocessing.sequence import pad_sequences\n",
        "# From keras.models import sequential model\n",
        "from keras.models import Sequential\n",
        "from keras.layers import Dense, Embedding, LSTM, SpatialDropout1D\n",
        "# Python program using Matplotib for forming a linear plot\n",
        "from matplotlib import pyplot\n",
        "# Importing the library for splitting the data\n",
        "from sklearn.model_selection import train_test_split\n",
        "# Importing one hot encoding library\n",
        "from keras.utils.np_utils import to_categorical\n",
        "import re\n",
        "# importing preprocessing library\n",
        "from sklearn.preprocessing import LabelEncoder"
      ],
      "execution_count": null,
      "outputs": []
    },
    {
      "cell_type": "code",
      "metadata": {
        "id": "chFEdCMh5axQ"
      },
      "source": [
        "# Reading the data from sentiment.csv file\n",
        "data = pd.read_csv('Sentiment.csv')\n",
        "# Keeping only the neccessary columns\n",
        "data = data[['text','sentiment']]\n"
      ],
      "execution_count": null,
      "outputs": []
    },
    {
      "cell_type": "code",
      "metadata": {
        "id": "5aTVtnHJ5a6x"
      },
      "source": [
        "# This syntax is using to the data which has unnecessary things from text and convert them to lowercase\n",
        "data['text'] = data['text'].apply(lambda x: x.lower())\n",
        "data['text'] = data['text'].apply((lambda x: re.sub('[^a-zA-z0-9\\s]', '', x)))"
      ],
      "execution_count": null,
      "outputs": []
    },
    {
      "cell_type": "code",
      "metadata": {
        "id": "H5eiitzeZ69B"
      },
      "source": [
        "print(data[ data['sentiment'] == 'Positive'].size)\n",
        "print(data[ data['sentiment'] == 'Negative'].size)"
      ],
      "execution_count": null,
      "outputs": []
    },
    {
      "cell_type": "code",
      "metadata": {
        "id": "VF-QDzCq5bA0"
      },
      "source": [
        "for idx, row in data.iterrows():\n",
        "    row[0] = row[0].replace('rt', ' ')\n",
        "\n",
        "max_fatures = 2000\n",
        "# Tokenizing the data and convert the text to sequences.\n",
        "tokenizer = Tokenizer(num_words=max_fatures, split=' ')\n",
        "tokenizer.fit_on_texts(data['text'].values)\n",
        "X = tokenizer.texts_to_sequences(data['text'].values)"
      ],
      "execution_count": null,
      "outputs": []
    },
    {
      "cell_type": "code",
      "metadata": {
        "id": "gRbJczMD5ytw"
      },
      "source": [
        "# Addition of padding to ensure that all the sequences have the same shape.\n",
        "X = pad_sequences(X)\n",
        "print(X)\n",
        "embed_dim = 128\n",
        "lstm_out = 196"
      ],
      "execution_count": null,
      "outputs": []
    },
    {
      "cell_type": "code",
      "metadata": {
        "id": "S70ss_9a5bC2"
      },
      "source": [
        "# Function to create a model\n",
        "def createmodel():\n",
        "    # Creating a model\n",
        "    model = Sequential()\n",
        "    # embed_dim, lstm_out, batch_size, droupout_x variables are hyperparameters.\n",
        "    # these parameters helps to achieve good results\n",
        "    model.add(Embedding(max_fatures, embed_dim,input_length = X.shape[1]))\n",
        "    model.add(LSTM(lstm_out, dropout=0.2, recurrent_dropout=0.2))\n",
        "    model.add(Dense(3,activation='softmax'))\n",
        "    # Compiling the model\n",
        "    model.compile(loss = 'categorical_crossentropy', optimizer='adam',metrics = ['accuracy'])\n",
        "    return model\n",
        "    print(model.summary())"
      ],
      "execution_count": null,
      "outputs": []
    },
    {
      "cell_type": "code",
      "metadata": {
        "id": "9G_TSrsx5bGs"
      },
      "source": [
        "# LabelEncoder to encode the text into categorical integer values\n",
        "labelencoder = LabelEncoder()\n",
        "integer_encoded = labelencoder.fit_transform(data['sentiment'])\n",
        "# One-hot-encoder \n",
        "# utils.to_categorical is used to convert array of labeled data to one-hot vector\n",
        "y = to_categorical(integer_encoded)\n",
        "# Splitting the dataset into test and train data\n",
        "X_train, X_test, Y_train, Y_test = train_test_split(X,y, test_size = 0.33, random_state = 42)\n",
        "print(X_train.shape,Y_train.shape) \n",
        "print(X_test.shape,Y_test.shape) \n"
      ],
      "execution_count": null,
      "outputs": []
    },
    {
      "cell_type": "code",
      "metadata": {
        "id": "13S8oT145bIt"
      },
      "source": [
        "batch_size = 40\n",
        "model = createmodel()\n",
        "# Model.fit() using to padded training data and validating the data.\n",
        "# epoch: Number of times the learning algorithm will work through the entire training data set\n",
        "history= model.fit(X_train, Y_train, epochs = 5, batch_size=batch_size, verbose = 2)\n",
        "# Evaluating the model\n",
        "score,acc = model.evaluate(X_test,Y_test,verbose=2,batch_size=batch_size)\n",
        "print(score)\n",
        "print(acc)\n",
        "print(model.metrics_names)"
      ],
      "execution_count": null,
      "outputs": []
    },
    {
      "cell_type": "code",
      "metadata": {
        "id": "1HaCnAJf5bMk"
      },
      "source": [
        "from keras.wrappers.scikit_learn import KerasClassifier\n",
        "model = KerasClassifier(build_fn=createmodel,verbose=0)\n",
        "# Defining the grid search parameters\n",
        "batch_size = 40\n",
        "epochs = [1, 2, 3]\n",
        "param_grid = dict(epochs=epochs)\n",
        "from sklearn.model_selection import GridSearchCV\n",
        "grid = GridSearchCV(estimator=model, param_grid=param_grid, n_jobs=1)\n",
        "grid_result = grid.fit(X_train, Y_train, batch_size = 40)\n",
        "# summarize results\n",
        "print(\"Best: %f using %s\" % (grid_result.best_score_, grid_result.best_params_))\n",
        "means = grid_result.cv_results_['mean_test_score']\n",
        "stds = grid_result.cv_results_['std_test_score']\n",
        "params = grid_result.cv_results_['params']\n",
        "for mean, stdev, param in zip(means, stds, params):\n",
        "    print(\"%f (%f) with: %r\" % (mean, stdev, param))\n",
        "# By seeing above result the batch size of 40 and epochs number 2 achieved the best result of about 68% accuracy."
      ],
      "execution_count": null,
      "outputs": []
    },
    {
      "cell_type": "code",
      "metadata": {
        "id": "eBwnTLAH5bSd"
      },
      "source": [
        "# Bonus question\n",
        "# Printing the keys from history.\n",
        "print(history.history.keys())\n",
        "# Analyze by visualizing data.\n",
        "# Summarize history for an accuracy.\n",
        "pyplot.plot(history.history['accuracy'])\n",
        "pyplot.title('Model accuracy')\n",
        "pyplot.ylabel('accuracy')\n",
        "pyplot.xlabel('epoch')\n",
        "pyplot.legend(['train'], loc= 'upper left')\n",
        "pyplot.show()\n"
      ],
      "execution_count": null,
      "outputs": []
    },
    {
      "cell_type": "code",
      "metadata": {
        "id": "WAQ6WGVEouYb"
      },
      "source": [
        "# Summarize history for the loss.\n",
        "pyplot.plot(history.history['loss'])\n",
        "pyplot.title('Model loss')\n",
        "pyplot.xlabel('epoch')\n",
        "pyplot.ylabel('Loss')\n",
        "pyplot.legend(['train'], loc= 'upper left')\n",
        "pyplot.show()"
      ],
      "execution_count": null,
      "outputs": []
    }
  ]
}