{
  "nbformat": 4,
  "nbformat_minor": 0,
  "metadata": {
    "colab": {
      "name": "DLQuestion3.ipynb",
      "private_outputs": true,
      "provenance": [],
      "authorship_tag": "ABX9TyOUJ8BMhP1wvgLJ6JUf7kip",
      "include_colab_link": true
    },
    "kernelspec": {
      "name": "python3",
      "display_name": "Python 3"
    },
    "accelerator": "GPU"
  },
  "cells": [
    {
      "cell_type": "markdown",
      "metadata": {
        "id": "view-in-github",
        "colab_type": "text"
      },
      "source": [
        "<a href=\"https://colab.research.google.com/github/shireesha27/demo/blob/master/DLQuestion3.ipynb\" target=\"_parent\"><img src=\"https://colab.research.google.com/assets/colab-badge.svg\" alt=\"Open In Colab\"/></a>"
      ]
    },
    {
      "cell_type": "code",
      "metadata": {
        "id": "v5JS3ZAL9Inn"
      },
      "source": [
        "# Python program using numpy for arranging a given set of data into a table\n",
        "# Data processing to read CSV file \n",
        "import pandas as pd \n",
        "# Keras is the neural network library\n",
        "from keras.preprocessing.text import Tokenizer\n",
        "from keras.preprocessing.sequence import pad_sequences\n",
        "# From keras.models import sequential model\n",
        "from keras.models import Sequential\n",
        "from keras.layers import Dense, Embedding, LSTM, SpatialDropout1D\n",
        "# Python program using Matplotib for forming a linear plot\n",
        "from matplotlib import pyplot\n",
        "# Importing the library for splitting the data\n",
        "from sklearn.model_selection import train_test_split\n",
        "# Importing one hot encoding library\n",
        "from keras.utils.np_utils import to_categorical\n",
        "import re\n",
        "# importing preprocessing library\n",
        "from sklearn.preprocessing import LabelEncoder\n",
        "# Importing json library from keras\n",
        "from keras.models import model_from_json"
      ],
      "execution_count": null,
      "outputs": []
    },
    {
      "cell_type": "code",
      "metadata": {
        "id": "K5xg5r7ZNLIG"
      },
      "source": [
        "# Reading the data from spam.csv file\n",
        "data = pd.read_csv('spam.csv',encoding='latin-1')\n",
        "data.head(5)"
      ],
      "execution_count": null,
      "outputs": []
    },
    {
      "cell_type": "code",
      "metadata": {
        "id": "tDMjFZln2jwM"
      },
      "source": [
        "# Dropping the unnamed columns\n",
        "data = data.drop([\"Unnamed: 2\", \"Unnamed: 3\", \"Unnamed: 4\"], axis=1)\n",
        "# Renaming the columns\n",
        "data = data.rename(columns={\"v1\":\"class\", \"v2\":\"text\"})\n",
        "data.head()"
      ],
      "execution_count": null,
      "outputs": []
    },
    {
      "cell_type": "code",
      "metadata": {
        "id": "xe5eiLdo9S6Q"
      },
      "source": [
        "# This syntax is using to the data which has unnecessary things from text and convert them to lowercase\n",
        "data['text'] = data['text'].apply(lambda x: x.lower())\n",
        "data['text'] = data['text'].apply((lambda x: re.sub('[^a-zA-z0-9\\s]', '', x)))"
      ],
      "execution_count": null,
      "outputs": []
    },
    {
      "cell_type": "code",
      "metadata": {
        "id": "iyoTdmPt9S93"
      },
      "source": [
        "for idx, row in data.iterrows():\n",
        "    row[0] = row[0].replace('rt', ' ')\n",
        "\n",
        "max_fatures = 2000\n",
        "# Tokenizing the data and convert the text to sequences.\n",
        "tokenizer = Tokenizer(num_words=max_fatures, split=' ')\n",
        "tokenizer.fit_on_texts(data['text'].values)\n",
        "X = tokenizer.texts_to_sequences(data['text'].values)\n",
        "print(X)"
      ],
      "execution_count": null,
      "outputs": []
    },
    {
      "cell_type": "code",
      "metadata": {
        "id": "RSBek3fx9S_Q"
      },
      "source": [
        "# Addition of padding to ensure that all the sequences have the same shape.\n",
        "X = pad_sequences(X)\n",
        "print(X)\n",
        "embed_dim = 128\n",
        "lstm_out = 196"
      ],
      "execution_count": null,
      "outputs": []
    },
    {
      "cell_type": "code",
      "metadata": {
        "id": "YIwXLJCD9TCo"
      },
      "source": [
        "# Function to create a model\n",
        "def createmodel():\n",
        "    # Creating a model\n",
        "    model = Sequential()\n",
        "    # embed_dim, lstm_out, batch_size, droupout_x variables are hyperparameters.\n",
        "    # These parameters helps to achieve good results\n",
        "    model.add(Embedding(max_fatures, embed_dim,input_length = X.shape[1]))\n",
        "    model.add(LSTM(lstm_out, dropout=0.2, recurrent_dropout=0.2))\n",
        "    # The output layer using softmax for activation.\n",
        "    model.add(Dense(2,activation='softmax'))\n",
        "    # Compiling the model\n",
        "    model.compile(loss = 'categorical_crossentropy', optimizer='adam',metrics = ['accuracy'])\n",
        "    return model"
      ],
      "execution_count": null,
      "outputs": []
    },
    {
      "cell_type": "code",
      "metadata": {
        "id": "KBNXvOqh9TF0"
      },
      "source": [
        "model = createmodel()\n",
        "# Printing the model summary\n",
        "print(model.summary())\n",
        "# LabelEncoder to encode the text into categorical integer values\n",
        "labelencoder = LabelEncoder()\n",
        "integer_encoded = labelencoder.fit_transform(data['class'])\n",
        "# One-hot-encoder \n",
        "# utils.to_categorical is used to convert array of labeled data to one-hot vector\n",
        "y = to_categorical(integer_encoded)\n",
        "# Splitting the dataset into test and train data\n",
        "X_train, X_test, Y_train, Y_test = train_test_split(X,y, test_size = 0.33, random_state = 42)\n",
        "print(X_train.shape,Y_train.shape) \n",
        "print(X_test.shape,Y_test.shape) \n"
      ],
      "execution_count": null,
      "outputs": []
    },
    {
      "cell_type": "code",
      "metadata": {
        "id": "DJY4hu8u9TJN"
      },
      "source": [
        "batch_size = 32\n",
        "model = createmodel()\n",
        "# Model.fit() using to padded training data and validating the data.\n",
        "# epoch: Number of times the learning algorithm will work through the entire training data set\n",
        "history = model.fit(X_train, Y_train, epochs = 5, batch_size=batch_size, verbose = 2,validation_data=(X_test, Y_test))\n",
        "from keras.models import load_model\n",
        "model.save('spam.h5')\n",
        "# Evaluating the model\n",
        "score,acc = model.evaluate(X_test,Y_test,verbose=2,batch_size=batch_size)\n",
        "print(score)\n",
        "print(acc)\n",
        "print(model.metrics_names)"
      ],
      "execution_count": null,
      "outputs": []
    },
    {
      "cell_type": "code",
      "metadata": {
        "id": "IPvkigbv9TOh"
      },
      "source": [
        "# Bonus Question\n",
        "# Printing the keys from history.\n",
        "print(history.history.keys())\n",
        "# Analyze by visualizing data.\n",
        "# Summarize history for an accuracy.\n",
        "pyplot.plot(history.history['accuracy'])\n",
        "pyplot.plot(history.history['val_accuracy'])\n",
        "pyplot.title('Training and validation accuracy')\n",
        "pyplot.ylabel('Accuracy')\n",
        "pyplot.xlabel('epoch')\n",
        "pyplot.legend(['train', 'test'], loc= 'upper left')\n",
        "pyplot.show()\n"
      ],
      "execution_count": null,
      "outputs": []
    },
    {
      "cell_type": "code",
      "metadata": {
        "id": "jpqbkKkVl7hv"
      },
      "source": [
        "# Summarize history for the loss.\n",
        "pyplot.plot(history.history['loss'])\n",
        "pyplot.plot(history.history['val_loss'])\n",
        "pyplot.title('Training and validation loss')\n",
        "pyplot.xlabel('epoch')\n",
        "pyplot.ylabel('Loss')\n",
        "pyplot.legend(['train', 'test'], loc= 'upper left')\n",
        "pyplot.show()"
      ],
      "execution_count": null,
      "outputs": []
    }
  ]
}