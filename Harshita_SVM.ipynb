{
  "nbformat": 4,
  "nbformat_minor": 0,
  "metadata": {
    "colab": {
      "name": "Harshita_SVM.ipynb",
      "provenance": []
    },
    "kernelspec": {
      "name": "python3",
      "display_name": "Python 3"
    }
  },
  "cells": [
    {
      "cell_type": "code",
      "metadata": {
        "id": "TCstpIgmyWTf"
      },
      "source": [
        "import numpy as np\n",
        "from sklearn.metrics import classification_report\n",
        "import pandas as pd\n",
        "from sklearn.model_selection import train_test_split\n",
        "from sklearn import svm\n",
        "from sklearn.metrics import accuracy_score"
      ],
      "execution_count": 29,
      "outputs": []
    },
    {
      "cell_type": "code",
      "metadata": {
        "id": "THI5i3FOy4F0"
      },
      "source": [
        "df = pd.read_csv('output_filenew.csv')"
      ],
      "execution_count": 30,
      "outputs": []
    },
    {
      "cell_type": "code",
      "metadata": {
        "colab": {
          "base_uri": "https://localhost:8080/",
          "height": 195
        },
        "id": "nrcVoD5uzAUe",
        "outputId": "359b07d8-f2b8-4a9e-d075-e5a4ac12205d"
      },
      "source": [
        "df.head()"
      ],
      "execution_count": 31,
      "outputs": [
        {
          "output_type": "execute_result",
          "data": {
            "text/html": [
              "<div>\n",
              "<style scoped>\n",
              "    .dataframe tbody tr th:only-of-type {\n",
              "        vertical-align: middle;\n",
              "    }\n",
              "\n",
              "    .dataframe tbody tr th {\n",
              "        vertical-align: top;\n",
              "    }\n",
              "\n",
              "    .dataframe thead th {\n",
              "        text-align: right;\n",
              "    }\n",
              "</style>\n",
              "<table border=\"1\" class=\"dataframe\">\n",
              "  <thead>\n",
              "    <tr style=\"text-align: right;\">\n",
              "      <th></th>\n",
              "      <th>FileName</th>\n",
              "      <th>Pixel</th>\n",
              "      <th>Label</th>\n",
              "    </tr>\n",
              "  </thead>\n",
              "  <tbody>\n",
              "    <tr>\n",
              "      <th>0</th>\n",
              "      <td>zero_1.jpg</td>\n",
              "      <td>173 190 209 219 212 192 159 141 137 141 112 10...</td>\n",
              "      <td>0</td>\n",
              "    </tr>\n",
              "    <tr>\n",
              "      <th>1</th>\n",
              "      <td>zero_2.jpg</td>\n",
              "      <td>195 175 157 120 83 88 107 153 177 203 211 185 ...</td>\n",
              "      <td>0</td>\n",
              "    </tr>\n",
              "    <tr>\n",
              "      <th>2</th>\n",
              "      <td>zero_4.jpg</td>\n",
              "      <td>122 97 78 70 69 79 89 88 86 90 84 111 171 209 ...</td>\n",
              "      <td>0</td>\n",
              "    </tr>\n",
              "    <tr>\n",
              "      <th>3</th>\n",
              "      <td>zero_3.jpg</td>\n",
              "      <td>168 172 172 174 147 120 117 145 169 198 205 19...</td>\n",
              "      <td>0</td>\n",
              "    </tr>\n",
              "    <tr>\n",
              "      <th>4</th>\n",
              "      <td>zero_5.jpg</td>\n",
              "      <td>171 197 209 208 202 158 172 123 95 120 80 79 9...</td>\n",
              "      <td>0</td>\n",
              "    </tr>\n",
              "  </tbody>\n",
              "</table>\n",
              "</div>"
            ],
            "text/plain": [
              "     FileName                                              Pixel  Label\n",
              "0  zero_1.jpg  173 190 209 219 212 192 159 141 137 141 112 10...      0\n",
              "1  zero_2.jpg  195 175 157 120 83 88 107 153 177 203 211 185 ...      0\n",
              "2  zero_4.jpg  122 97 78 70 69 79 89 88 86 90 84 111 171 209 ...      0\n",
              "3  zero_3.jpg  168 172 172 174 147 120 117 145 169 198 205 19...      0\n",
              "4  zero_5.jpg  171 197 209 208 202 158 172 123 95 120 80 79 9...      0"
            ]
          },
          "metadata": {
            "tags": []
          },
          "execution_count": 31
        }
      ]
    },
    {
      "cell_type": "code",
      "metadata": {
        "id": "PwyPjRFrzKls"
      },
      "source": [
        "df['Pixel']=df['Pixel'].apply(lambda x:  np.array(x.split(), dtype=\"float32\"))"
      ],
      "execution_count": 32,
      "outputs": []
    },
    {
      "cell_type": "code",
      "metadata": {
        "colab": {
          "base_uri": "https://localhost:8080/"
        },
        "id": "gjdaHLrf3N45",
        "outputId": "ce2e1b94-e699-4d61-a6f7-83967380a7c2"
      },
      "source": [
        "df['Pixel']"
      ],
      "execution_count": 53,
      "outputs": [
        {
          "output_type": "execute_result",
          "data": {
            "text/plain": [
              "0     [173.0, 190.0, 209.0, 219.0, 212.0, 192.0, 159...\n",
              "1     [195.0, 175.0, 157.0, 120.0, 83.0, 88.0, 107.0...\n",
              "2     [122.0, 97.0, 78.0, 70.0, 69.0, 79.0, 89.0, 88...\n",
              "3     [168.0, 172.0, 172.0, 174.0, 147.0, 120.0, 117...\n",
              "4     [171.0, 197.0, 209.0, 208.0, 202.0, 158.0, 172...\n",
              "5     [195.0, 198.0, 202.0, 204.0, 205.0, 206.0, 208...\n",
              "6     [52.0, 53.0, 53.0, 53.0, 54.0, 54.0, 55.0, 54....\n",
              "7     [188.0, 182.0, 142.0, 177.0, 182.0, 175.0, 161...\n",
              "8     [71.0, 99.0, 143.0, 146.0, 123.0, 124.0, 146.0...\n",
              "9     [83.0, 100.0, 112.0, 124.0, 121.0, 116.0, 120....\n",
              "10    [61.0, 61.0, 68.0, 67.0, 72.0, 95.0, 119.0, 11...\n",
              "11    [179.0, 180.0, 180.0, 180.0, 179.0, 179.0, 180...\n",
              "12    [75.0, 77.0, 65.0, 61.0, 71.0, 89.0, 93.0, 82....\n",
              "13    [145.0, 150.0, 159.0, 158.0, 160.0, 161.0, 161...\n",
              "14    [80.0, 79.0, 81.0, 85.0, 88.0, 90.0, 92.0, 91....\n",
              "15    [254.0, 254.0, 254.0, 254.0, 254.0, 254.0, 254...\n",
              "16    [223.0, 223.0, 223.0, 223.0, 223.0, 223.0, 223...\n",
              "17    [226.0, 226.0, 226.0, 226.0, 226.0, 226.0, 226...\n",
              "18    [215.0, 215.0, 216.0, 216.0, 217.0, 218.0, 219...\n",
              "19    [215.0, 215.0, 216.0, 216.0, 217.0, 218.0, 219...\n",
              "20    [0.0, 0.0, 0.0, 0.0, 0.0, 0.0, 0.0, 0.0, 0.0, ...\n",
              "21    [0.0, 0.0, 0.0, 0.0, 0.0, 0.0, 0.0, 0.0, 0.0, ...\n",
              "22    [0.0, 0.0, 0.0, 0.0, 0.0, 0.0, 0.0, 0.0, 0.0, ...\n",
              "23    [0.0, 0.0, 0.0, 0.0, 0.0, 0.0, 0.0, 0.0, 0.0, ...\n",
              "24    [0.0, 0.0, 0.0, 0.0, 0.0, 0.0, 0.0, 0.0, 0.0, ...\n",
              "25    [255.0, 255.0, 255.0, 255.0, 255.0, 255.0, 255...\n",
              "26    [0.0, 0.0, 0.0, 0.0, 0.0, 0.0, 0.0, 0.0, 0.0, ...\n",
              "27    [0.0, 0.0, 0.0, 0.0, 0.0, 0.0, 0.0, 0.0, 0.0, ...\n",
              "28    [0.0, 0.0, 0.0, 0.0, 0.0, 0.0, 0.0, 0.0, 0.0, ...\n",
              "29    [241.0, 250.0, 250.0, 251.0, 250.0, 250.0, 250...\n",
              "30    [0.0, 0.0, 0.0, 0.0, 0.0, 0.0, 0.0, 0.0, 0.0, ...\n",
              "31    [0.0, 0.0, 0.0, 0.0, 0.0, 0.0, 0.0, 0.0, 0.0, ...\n",
              "32    [0.0, 0.0, 0.0, 0.0, 0.0, 0.0, 0.0, 0.0, 0.0, ...\n",
              "33    [0.0, 0.0, 0.0, 0.0, 0.0, 0.0, 0.0, 0.0, 0.0, ...\n",
              "34    [0.0, 0.0, 0.0, 0.0, 0.0, 0.0, 0.0, 0.0, 0.0, ...\n",
              "35    [0.0, 0.0, 0.0, 0.0, 0.0, 0.0, 0.0, 0.0, 0.0, ...\n",
              "36    [0.0, 0.0, 0.0, 0.0, 0.0, 0.0, 0.0, 0.0, 0.0, ...\n",
              "37    [0.0, 0.0, 0.0, 0.0, 0.0, 0.0, 0.0, 0.0, 0.0, ...\n",
              "38    [0.0, 0.0, 0.0, 0.0, 0.0, 0.0, 0.0, 0.0, 0.0, ...\n",
              "39    [0.0, 0.0, 0.0, 0.0, 0.0, 0.0, 0.0, 0.0, 0.0, ...\n",
              "40    [0.0, 0.0, 0.0, 0.0, 0.0, 0.0, 0.0, 0.0, 0.0, ...\n",
              "41    [0.0, 0.0, 0.0, 0.0, 0.0, 0.0, 0.0, 0.0, 0.0, ...\n",
              "42    [0.0, 0.0, 0.0, 0.0, 0.0, 0.0, 0.0, 0.0, 0.0, ...\n",
              "43    [0.0, 0.0, 0.0, 0.0, 0.0, 0.0, 0.0, 0.0, 0.0, ...\n",
              "44    [0.0, 0.0, 0.0, 0.0, 0.0, 0.0, 0.0, 0.0, 0.0, ...\n",
              "45    [168.0, 186.0, 191.0, 191.0, 191.0, 191.0, 191...\n",
              "46    [162.0, 181.0, 187.0, 188.0, 188.0, 189.0, 190...\n",
              "47    [166.0, 185.0, 191.0, 191.0, 191.0, 192.0, 191...\n",
              "48    [124.0, 139.0, 143.0, 143.0, 143.0, 143.0, 144...\n",
              "49    [167.0, 186.0, 192.0, 193.0, 194.0, 195.0, 196...\n",
              "50    [174.0, 174.0, 176.0, 182.0, 223.0, 228.0, 220...\n",
              "51    [226.0, 226.0, 224.0, 222.0, 221.0, 225.0, 228...\n",
              "52    [15.0, 47.0, 56.0, 65.0, 68.0, 71.0, 58.0, 34....\n",
              "53    [232.0, 233.0, 234.0, 232.0, 235.0, 236.0, 240...\n",
              "54    [70.0, 70.0, 70.0, 71.0, 69.0, 69.0, 71.0, 75....\n",
              "Name: Pixel, dtype: object"
            ]
          },
          "metadata": {
            "tags": []
          },
          "execution_count": 53
        }
      ]
    },
    {
      "cell_type": "code",
      "metadata": {
        "id": "tkhBhy_d3m0H"
      },
      "source": [
        "a =data.iloc[5,1]\n",
        "b= a.reshape(64, 64)"
      ],
      "execution_count": 34,
      "outputs": []
    },
    {
      "cell_type": "code",
      "metadata": {
        "colab": {
          "base_uri": "https://localhost:8080/",
          "height": 285
        },
        "id": "kM0mS3RJ30hw",
        "outputId": "287ee7de-c935-4799-bb2b-e01cf263d40f"
      },
      "source": [
        "import matplotlib.pyplot as plt\n",
        "plt.imshow(b, cmap = 'gray')"
      ],
      "execution_count": 36,
      "outputs": [
        {
          "output_type": "execute_result",
          "data": {
            "text/plain": [
              "<matplotlib.image.AxesImage at 0x7f35d72d8400>"
            ]
          },
          "metadata": {
            "tags": []
          },
          "execution_count": 36
        },
        {
          "output_type": "display_data",
          "data": {
            "image/png": "[encoded data removed]",
            "text/plain": [
              "<Figure size 432x288 with 1 Axes>"
            ]
          },
          "metadata": {
            "tags": [],
            "needs_background": "light"
          }
        }
      ]
    },
    {
      "cell_type": "code",
      "metadata": {
        "id": "s8Dz-cta3_Fw"
      },
      "source": [
        "X = np.array(df['Pixel'].tolist())"
      ],
      "execution_count": 64,
      "outputs": []
    },
    {
      "cell_type": "code",
      "metadata": {
        "colab": {
          "base_uri": "https://localhost:8080/"
        },
        "id": "vwMDweBu9pP2",
        "outputId": "9d7c07b9-d545-4b9c-d6f6-7a781006b541"
      },
      "source": [
        "X.shape"
      ],
      "execution_count": 65,
      "outputs": [
        {
          "output_type": "execute_result",
          "data": {
            "text/plain": [
              "(55, 4096)"
            ]
          },
          "metadata": {
            "tags": []
          },
          "execution_count": 65
        }
      ]
    },
    {
      "cell_type": "code",
      "metadata": {
        "id": "KwkeZJ_k6oR-"
      },
      "source": [
        "y = df['Label']"
      ],
      "execution_count": 77,
      "outputs": []
    },
    {
      "cell_type": "code",
      "metadata": {
        "id": "oGA4Latz69Oq"
      },
      "source": [
        "X_train, X_test, Y_train, Y_test = train_test_split( X, y, test_size = 0.2, random_state=40)"
      ],
      "execution_count": 79,
      "outputs": []
    },
    {
      "cell_type": "code",
      "metadata": {
        "id": "MSn1T6e-7GQ2"
      },
      "source": [
        "svc = svm.SVC(kernel=\"linear\")"
      ],
      "execution_count": 80,
      "outputs": []
    },
    {
      "cell_type": "code",
      "metadata": {
        "colab": {
          "base_uri": "https://localhost:8080/"
        },
        "id": "MCUviuSB7JWn",
        "outputId": "7fd2679d-31dc-499f-fc19-72910bbbe571"
      },
      "source": [
        "svc.fit(X_train, Y_train)"
      ],
      "execution_count": 81,
      "outputs": [
        {
          "output_type": "execute_result",
          "data": {
            "text/plain": [
              "SVC(C=1.0, break_ties=False, cache_size=200, class_weight=None, coef0=0.0,\n",
              "    decision_function_shape='ovr', degree=3, gamma='scale', kernel='linear',\n",
              "    max_iter=-1, probability=False, random_state=None, shrinking=True,\n",
              "    tol=0.001, verbose=False)"
            ]
          },
          "metadata": {
            "tags": []
          },
          "execution_count": 81
        }
      ]
    },
    {
      "cell_type": "code",
      "metadata": {
        "id": "28ExAr9vBj0X"
      },
      "source": [
        "Y_pred1 = svc.predict(X_test)"
      ],
      "execution_count": 82,
      "outputs": []
    },
    {
      "cell_type": "code",
      "metadata": {
        "colab": {
          "base_uri": "https://localhost:8080/"
        },
        "id": "iPCTEturBzqK",
        "outputId": "156d44e7-ba48-4456-e147-d969daf96856"
      },
      "source": [
        "Y_pred1"
      ],
      "execution_count": 84,
      "outputs": [
        {
          "output_type": "execute_result",
          "data": {
            "text/plain": [
              "array([7, 4, 2, 5, 3, 4, 7, 0, 6, 9, 1])"
            ]
          },
          "metadata": {
            "tags": []
          },
          "execution_count": 84
        }
      ]
    },
    {
      "cell_type": "code",
      "metadata": {
        "id": "bx0OIWxzBuVI"
      },
      "source": [
        "acc_svc = round(accuracy_score(Y_test,Y_pred1)*100,2)"
      ],
      "execution_count": 83,
      "outputs": []
    },
    {
      "cell_type": "code",
      "metadata": {
        "colab": {
          "base_uri": "https://localhost:8080/"
        },
        "id": "zlyXYyYSB8EB",
        "outputId": "41d6cd8c-5bf5-4925-a2a3-a1aae7359f37"
      },
      "source": [
        "acc_svc"
      ],
      "execution_count": 85,
      "outputs": [
        {
          "output_type": "execute_result",
          "data": {
            "text/plain": [
              "81.82"
            ]
          },
          "metadata": {
            "tags": []
          },
          "execution_count": 85
        }
      ]
    },
    {
      "cell_type": "code",
      "metadata": {
        "colab": {
          "base_uri": "https://localhost:8080/",
          "height": 318
        },
        "id": "zlBalEWWEEAu",
        "outputId": "999c06a2-b760-4c87-a1e1-cdbdeeb3e421"
      },
      "source": [
        "  import matplotlib.pyplot as plt\n",
        "  plt.imshow(df['Pixel'].iloc[50].reshape(64,64))\n",
        "  test = np.array(df['Pixel'].iloc[50])\n",
        "  test = test.reshape(4096)\n",
        "  pred_1= svc.predict(np.array([test]))\n",
        "  print(pred_1)\n",
        "      \n",
        "  hand=int(pred_1)\n",
        "  print(\"Predicted Number: \"+ str(hand))\n",
        "  print(\"Actual Number: \"+ str(np.array(data['Label'].iloc[50])))"
      ],
      "execution_count": 107,
      "outputs": [
        {
          "output_type": "stream",
          "text": [
            "[10]\n",
            "Predicted Number: 10\n",
            "Actual Number: 10\n"
          ],
          "name": "stdout"
        },
        {
          "output_type": "display_data",
          "data": {
            "image/png": "[encoded data removed]",
            "text/plain": [
              "<Figure size 432x288 with 1 Axes>"
            ]
          },
          "metadata": {
            "tags": [],
            "needs_background": "light"
          }
        }
      ]
    }
  ]
}