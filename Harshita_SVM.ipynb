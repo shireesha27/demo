{
  "nbformat": 4,
  "nbformat_minor": 0,
  "metadata": {
    "colab": {
      "name": "Harshita_SVM.ipynb",
      "provenance": []
    },
    "kernelspec": {
      "name": "python3",
      "display_name": "Python 3"
    }
  },
  "cells": [
    {
      "cell_type": "code",
      "metadata": {
        "id": "TCstpIgmyWTf"
      },
      "source": [
        "# Imported the necessary libraries.\n",
        "# Pandas is a library use for data manipulation and analysis\n",
        "import numpy as np\n",
        "from sklearn.metrics import classification_report\n",
        "import pandas as pd\n",
        "from sklearn.model_selection import train_test_split\n",
        "# To implement the Support Vector Machines we will use Scikit-learn and will import our SVM\n",
        "from sklearn import svm\n",
        "from sklearn.metrics import accuracy_score"
      ],
      "execution_count": 79,
      "outputs": []
    },
    {
      "cell_type": "code",
      "metadata": {
        "id": "THI5i3FOy4F0"
      },
      "source": [
        "# Importing the data or reading the data\n",
        "# read_csv method of Pandas to load the data into a pandas dataframe df\n",
        "df = pd.read_csv('output_file1.csv')"
      ],
      "execution_count": 80,
      "outputs": []
    },
    {
      "cell_type": "code",
      "metadata": {
        "colab": {
          "base_uri": "https://localhost:8080/",
          "height": 195
        },
        "id": "nrcVoD5uzAUe",
        "outputId": "a905926e-7b92-4a73-b327-1b188f1284da"
      },
      "source": [
        "# printing the head of df.\n",
        "df.head()"
      ],
      "execution_count": 81,
      "outputs": [
        {
          "output_type": "execute_result",
          "data": {
            "text/html": [
              "<div>\n",
              "<style scoped>\n",
              "    .dataframe tbody tr th:only-of-type {\n",
              "        vertical-align: middle;\n",
              "    }\n",
              "\n",
              "    .dataframe tbody tr th {\n",
              "        vertical-align: top;\n",
              "    }\n",
              "\n",
              "    .dataframe thead th {\n",
              "        text-align: right;\n",
              "    }\n",
              "</style>\n",
              "<table border=\"1\" class=\"dataframe\">\n",
              "  <thead>\n",
              "    <tr style=\"text-align: right;\">\n",
              "      <th></th>\n",
              "      <th>FileName</th>\n",
              "      <th>Pixel</th>\n",
              "      <th>Label</th>\n",
              "    </tr>\n",
              "  </thead>\n",
              "  <tbody>\n",
              "    <tr>\n",
              "      <th>0</th>\n",
              "      <td>zero_1353.jpg</td>\n",
              "      <td>141 138 138 140 142 145 146 148 150 151 152 15...</td>\n",
              "      <td>0</td>\n",
              "    </tr>\n",
              "    <tr>\n",
              "      <th>1</th>\n",
              "      <td>zero_1450.jpg</td>\n",
              "      <td>142 140 138 138 141 144 145 146 150 150 149 15...</td>\n",
              "      <td>0</td>\n",
              "    </tr>\n",
              "    <tr>\n",
              "      <th>2</th>\n",
              "      <td>zero_1409.jpg</td>\n",
              "      <td>139 136 134 135 136 139 141 143 145 146 149 14...</td>\n",
              "      <td>0</td>\n",
              "    </tr>\n",
              "    <tr>\n",
              "      <th>3</th>\n",
              "      <td>zero_1351.jpg</td>\n",
              "      <td>139 139 138 139 143 144 146 147 149 151 153 15...</td>\n",
              "      <td>0</td>\n",
              "    </tr>\n",
              "    <tr>\n",
              "      <th>4</th>\n",
              "      <td>zero_1390.jpg</td>\n",
              "      <td>139 135 134 136 137 138 142 145 149 149 151 15...</td>\n",
              "      <td>0</td>\n",
              "    </tr>\n",
              "  </tbody>\n",
              "</table>\n",
              "</div>"
            ],
            "text/plain": [
              "        FileName                                              Pixel  Label\n",
              "0  zero_1353.jpg  141 138 138 140 142 145 146 148 150 151 152 15...      0\n",
              "1  zero_1450.jpg  142 140 138 138 141 144 145 146 150 150 149 15...      0\n",
              "2  zero_1409.jpg  139 136 134 135 136 139 141 143 145 146 149 14...      0\n",
              "3  zero_1351.jpg  139 139 138 139 143 144 146 147 149 151 153 15...      0\n",
              "4  zero_1390.jpg  139 135 134 136 137 138 142 145 149 149 151 15...      0"
            ]
          },
          "metadata": {
            "tags": []
          },
          "execution_count": 81
        }
      ]
    },
    {
      "cell_type": "code",
      "metadata": {
        "id": "PwyPjRFrzKls"
      },
      "source": [
        "df['Pixel']=df['Pixel'].apply(lambda x:  np.array(x.split(), dtype=\"float32\"))"
      ],
      "execution_count": 82,
      "outputs": []
    },
    {
      "cell_type": "code",
      "metadata": {
        "colab": {
          "base_uri": "https://localhost:8080/"
        },
        "id": "gjdaHLrf3N45",
        "outputId": "14258f57-9e90-421a-dd10-9298a090ec5e"
      },
      "source": [
        "df['Pixel']"
      ],
      "execution_count": 83,
      "outputs": [
        {
          "output_type": "execute_result",
          "data": {
            "text/plain": [
              "0        [141.0, 138.0, 138.0, 140.0, 142.0, 145.0, 146...\n",
              "1        [142.0, 140.0, 138.0, 138.0, 141.0, 144.0, 145...\n",
              "2        [139.0, 136.0, 134.0, 135.0, 136.0, 139.0, 141...\n",
              "3        [139.0, 139.0, 138.0, 139.0, 143.0, 144.0, 146...\n",
              "4        [139.0, 135.0, 134.0, 136.0, 137.0, 138.0, 142...\n",
              "                               ...                        \n",
              "16496    [16.0, 4.0, 1.0, 1.0, 5.0, 11.0, 21.0, 28.0, 3...\n",
              "16497    [157.0, 156.0, 165.0, 202.0, 206.0, 182.0, 180...\n",
              "16498    [250.0, 251.0, 251.0, 251.0, 251.0, 251.0, 250...\n",
              "16499    [199.0, 233.0, 230.0, 230.0, 229.0, 223.0, 207...\n",
              "16500    [43.0, 42.0, 41.0, 44.0, 43.0, 42.0, 47.0, 46....\n",
              "Name: Pixel, Length: 16501, dtype: object"
            ]
          },
          "metadata": {
            "tags": []
          },
          "execution_count": 83
        }
      ]
    },
    {
      "cell_type": "code",
      "metadata": {
        "id": "tkhBhy_d3m0H"
      },
      "source": [
        "a =df.iloc[1600,1]\n",
        "b= a.reshape(64, 64)"
      ],
      "execution_count": 84,
      "outputs": []
    },
    {
      "cell_type": "code",
      "metadata": {
        "colab": {
          "base_uri": "https://localhost:8080/",
          "height": 285
        },
        "id": "kM0mS3RJ30hw",
        "outputId": "addd2ea6-12a1-42b4-d9a0-9c35e9249fad"
      },
      "source": [
        "import matplotlib.pyplot as plt\n",
        "plt.imshow(b, cmap = 'gray')"
      ],
      "execution_count": 85,
      "outputs": [
        {
          "output_type": "execute_result",
          "data": {
            "text/plain": [
              "<matplotlib.image.AxesImage at 0x7faca8afb5f8>"
            ]
          },
          "metadata": {
            "tags": []
          },
          "execution_count": 85
        },
        {
          "output_type": "display_data",
          "data": {
            "image/png": "[encoded data removed]",
            "text/plain": [
              "<Figure size 432x288 with 1 Axes>"
            ]
          },
          "metadata": {
            "tags": [],
            "needs_background": "light"
          }
        }
      ]
    },
    {
      "cell_type": "code",
      "metadata": {
        "colab": {
          "base_uri": "https://localhost:8080/"
        },
        "id": "s8Dz-cta3_Fw",
        "outputId": "c4c7afee-80df-4710-cf9c-15e1d49f01e3"
      },
      "source": [
        "X = np.array(df['Pixel'].tolist())\n",
        "X.shape"
      ],
      "execution_count": 86,
      "outputs": [
        {
          "output_type": "execute_result",
          "data": {
            "text/plain": [
              "(16501, 4096)"
            ]
          },
          "metadata": {
            "tags": []
          },
          "execution_count": 86
        }
      ]
    },
    {
      "cell_type": "code",
      "metadata": {
        "id": "KwkeZJ_k6oR-"
      },
      "source": [
        "y = np.array(df['Label'], dtype=int)"
      ],
      "execution_count": 87,
      "outputs": []
    },
    {
      "cell_type": "code",
      "metadata": {
        "id": "oGA4Latz69Oq"
      },
      "source": [
        "X_train, X_test, Y_train, Y_test = train_test_split( X, y, test_size = 0.4, random_state=40)"
      ],
      "execution_count": 88,
      "outputs": []
    },
    {
      "cell_type": "code",
      "metadata": {
        "id": "MSn1T6e-7GQ2"
      },
      "source": [
        "Model = svm.SVC(kernel=\"rbf\")"
      ],
      "execution_count": 89,
      "outputs": []
    },
    {
      "cell_type": "code",
      "metadata": {
        "colab": {
          "base_uri": "https://localhost:8080/"
        },
        "id": "MCUviuSB7JWn",
        "outputId": "e65af946-811f-496f-c4a4-3c1bfea245d4"
      },
      "source": [
        "# Fitting Model\n",
        "Model.fit(X_train, Y_train)"
      ],
      "execution_count": 90,
      "outputs": [
        {
          "output_type": "execute_result",
          "data": {
            "text/plain": [
              "SVC(C=1.0, break_ties=False, cache_size=200, class_weight=None, coef0=0.0,\n",
              "    decision_function_shape='ovr', degree=3, gamma='scale', kernel='rbf',\n",
              "    max_iter=-1, probability=False, random_state=None, shrinking=True,\n",
              "    tol=0.001, verbose=False)"
            ]
          },
          "metadata": {
            "tags": []
          },
          "execution_count": 90
        }
      ]
    },
    {
      "cell_type": "code",
      "metadata": {
        "id": "28ExAr9vBj0X"
      },
      "source": [
        "Y_pred1 = Model.predict(X_test)"
      ],
      "execution_count": 91,
      "outputs": []
    },
    {
      "cell_type": "code",
      "metadata": {
        "colab": {
          "base_uri": "https://localhost:8080/"
        },
        "id": "iPCTEturBzqK",
        "outputId": "731d6304-31cd-4f9f-f75f-0fbcaa895d66"
      },
      "source": [
        "Y_pred1.shape"
      ],
      "execution_count": 92,
      "outputs": [
        {
          "output_type": "execute_result",
          "data": {
            "text/plain": [
              "(6601,)"
            ]
          },
          "metadata": {
            "tags": []
          },
          "execution_count": 92
        }
      ]
    },
    {
      "cell_type": "code",
      "metadata": {
        "colab": {
          "base_uri": "https://localhost:8080/"
        },
        "id": "Jr7AE5We2FQO",
        "outputId": "8b5247bb-63aa-44db-9422-84e600126fea"
      },
      "source": [
        "Y_test.shape"
      ],
      "execution_count": 93,
      "outputs": [
        {
          "output_type": "execute_result",
          "data": {
            "text/plain": [
              "(6601,)"
            ]
          },
          "metadata": {
            "tags": []
          },
          "execution_count": 93
        }
      ]
    },
    {
      "cell_type": "code",
      "metadata": {
        "id": "bx0OIWxzBuVI"
      },
      "source": [
        "accuracy = round(accuracy_score(Y_test,Y_pred1)*100,2)"
      ],
      "execution_count": 94,
      "outputs": []
    },
    {
      "cell_type": "code",
      "metadata": {
        "colab": {
          "base_uri": "https://localhost:8080/"
        },
        "id": "zlyXYyYSB8EB",
        "outputId": "b8a871a4-3e58-42df-ef0e-b1e2f21dd001"
      },
      "source": [
        "# Accuracy of svc model\n",
        "accuracy"
      ],
      "execution_count": 95,
      "outputs": [
        {
          "output_type": "execute_result",
          "data": {
            "text/plain": [
              "79.99"
            ]
          },
          "metadata": {
            "tags": []
          },
          "execution_count": 95
        }
      ]
    },
    {
      "cell_type": "code",
      "metadata": {
        "id": "zlBalEWWEEAu"
      },
      "source": [
        "import matplotlib.pyplot as plt\n",
        "def validate(ind,Model):\n",
        "  plt.imshow(df['Pixel'].iloc[ind].reshape(64,64))\n",
        "  test = np.array(df['Pixel'].iloc[ind])\n",
        "  test = test.reshape(4096)\n",
        "  pred_1= Model.predict(np.array([test]))\n",
        "  print(pred_1)\n",
        "      \n",
        "  hand=int(pred_1)\n",
        "  print(\"Predicted Number: \"+ str(hand))\n",
        "  print(\"Actual Number: \"+ str(np.array(df['Label'].iloc[ind])))"
      ],
      "execution_count": 96,
      "outputs": []
    },
    {
      "cell_type": "code",
      "metadata": {
        "colab": {
          "base_uri": "https://localhost:8080/",
          "height": 318
        },
        "id": "e45ZZvSerGPe",
        "outputId": "842e99d4-4f89-47fb-a088-ef5ce2e10304"
      },
      "source": [
        "validate(50,Model)"
      ],
      "execution_count": 97,
      "outputs": [
        {
          "output_type": "stream",
          "text": [
            "[0]\n",
            "Predicted Number: 0\n",
            "Actual Number: 0\n"
          ],
          "name": "stdout"
        },
        {
          "output_type": "display_data",
          "data": {
            "image/png": "[encoded data removed]",
            "text/plain": [
              "<Figure size 432x288 with 1 Axes>"
            ]
          },
          "metadata": {
            "tags": [],
            "needs_background": "light"
          }
        }
      ]
    },
    {
      "cell_type": "code",
      "metadata": {
        "colab": {
          "base_uri": "https://localhost:8080/",
          "height": 318
        },
        "id": "4QPU93PyrSYR",
        "outputId": "e7bc2df8-7141-4b48-a146-f93c46fcd622"
      },
      "source": [
        "validate(200,Model)"
      ],
      "execution_count": 98,
      "outputs": [
        {
          "output_type": "stream",
          "text": [
            "[0]\n",
            "Predicted Number: 0\n",
            "Actual Number: 0\n"
          ],
          "name": "stdout"
        },
        {
          "output_type": "display_data",
          "data": {
            "image/png": "[encoded data removed]",
            "text/plain": [
              "<Figure size 432x288 with 1 Axes>"
            ]
          },
          "metadata": {
            "tags": [],
            "needs_background": "light"
          }
        }
      ]
    },
    {
      "cell_type": "code",
      "metadata": {
        "colab": {
          "base_uri": "https://localhost:8080/",
          "height": 318
        },
        "id": "cdFtqpYQrYYW",
        "outputId": "176433d2-fa43-4da3-99fd-e0db723fa7b3"
      },
      "source": [
        "validate(1922,Model)"
      ],
      "execution_count": 99,
      "outputs": [
        {
          "output_type": "stream",
          "text": [
            "[1]\n",
            "Predicted Number: 1\n",
            "Actual Number: 1\n"
          ],
          "name": "stdout"
        },
        {
          "output_type": "display_data",
          "data": {
            "image/png": "[encoded data removed]",
            "text/plain": [
              "<Figure size 432x288 with 1 Axes>"
            ]
          },
          "metadata": {
            "tags": [],
            "needs_background": "light"
          }
        }
      ]
    },
    {
      "cell_type": "code",
      "metadata": {
        "colab": {
          "base_uri": "https://localhost:8080/",
          "height": 318
        },
        "id": "saZCgzZ1rg3s",
        "outputId": "66be625b-1e61-402f-99a6-3958448c7452"
      },
      "source": [
        "validate(9000,Model)"
      ],
      "execution_count": 100,
      "outputs": [
        {
          "output_type": "stream",
          "text": [
            "[5]\n",
            "Predicted Number: 5\n",
            "Actual Number: 5\n"
          ],
          "name": "stdout"
        },
        {
          "output_type": "display_data",
          "data": {
            "image/png": "[encoded data removed]",
            "text/plain": [
              "<Figure size 432x288 with 1 Axes>"
            ]
          },
          "metadata": {
            "tags": [],
            "needs_background": "light"
          }
        }
      ]
    },
    {
      "cell_type": "code",
      "metadata": {
        "colab": {
          "base_uri": "https://localhost:8080/",
          "height": 296
        },
        "id": "fgJUC2SazMZX",
        "outputId": "1af7fd48-30c9-47bc-9f83-27959f12be53"
      },
      "source": [
        "plt.scatter(Y_pred1, Y_test, alpha=.7, color = 'b')\n",
        "plt.xlabel('pred_1')\n",
        "plt.ylabel('Y_test')\n",
        "plt.title('SVM Model')\n",
        "plt.show()"
      ],
      "execution_count": 101,
      "outputs": [
        {
          "output_type": "display_data",
          "data": {
            "image/png": "[encoded data removed]",
            "text/plain": [
              "<Figure size 432x288 with 1 Axes>"
            ]
          },
          "metadata": {
            "tags": [],
            "needs_background": "light"
          }
        }
      ]
    }
  ]
}