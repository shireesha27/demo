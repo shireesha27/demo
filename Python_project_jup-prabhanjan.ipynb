{
 "cells": [
  {
   "cell_type": "code",
   "execution_count": 110,
   "metadata": {},
   "outputs": [],
   "source": [
    "#importing relevant libraries \n",
    "import os\n",
    "import cv2 \n",
    "from tqdm import tqdm\n",
    "import matplotlib.pyplot as plt\n",
    "import numpy as np\n",
    "import pandas as pd"
   ]
  },
  {
   "cell_type": "code",
   "execution_count": 58,
   "metadata": {},
   "outputs": [],
   "source": [
    "#Storing path of the file to a variable filepath.\n",
    "dir = '/Users/Prab/Masters/SEM 2/5590 Python /Project/Data/Sign Language for Numbers'\n",
    "#Setting the image size \n",
    "IMG_SIZE = 64\n",
    "CATEGORIES = [\"0\", \"1\", \"2\", \"3\", \"4\", \"5\", \"6\", \"7\", \"8\", \"9\", \"unknown\"]\n",
    "#Use one folder for testing\n",
    "#CATEGORIES = [\"0\"]"
   ]
  },
  {
   "cell_type": "code",
   "execution_count": null,
   "metadata": {},
   "outputs": [],
   "source": [
    "#Only for Visualizing the first image of each category \n",
    "for category in CATEGORIES:\n",
    "    path = os.path.join(dir,category)  # create path to categories\n",
    "    for img in os.listdir(path):\n",
    "      # iterate over each image\n",
    "      # convert to array \n",
    "      print('Label of below image is {}'.format(category))\n",
    "      img_array = cv2.imread(os.path.join(path,img))\n",
    "      print('Image size of {} is {}'.format(img, img_array.shape)) \n",
    "      plt.imshow(img_array, cmap = None)  # graph it\n",
    "      plt.show()  # display! \n",
    "\n",
    "      print('Printing the graysacle image')\n",
    "      img_array = cv2.imread(os.path.join(path,img) ,cv2.IMREAD_GRAYSCALE)\n",
    "      plt.imshow(img_array, cmap='gray')  # graph it\n",
    "      plt.show()  # display! \n",
    "      print('Resized image')\n",
    "      img_array = cv2.resize(img_array, (IMG_SIZE, IMG_SIZE))\n",
    "      plt.imshow(img_array, cmap='gray')\n",
    "      plt.show() # Show resize image\n",
    "      break  # we just want one for now so break"
   ]
  },
  {
   "cell_type": "code",
   "execution_count": 104,
   "metadata": {},
   "outputs": [],
   "source": [
    "'''\n",
    "This function will create csv file with header.\n",
    "Each pixels will have a header\n",
    "'''\n",
    "def get_images(directory):\n",
    "    output = []\n",
    "    print(\"Loading {}\".format(directory))\n",
    "    #open a file to write the header data \n",
    "    with open('output_file.csv', 'w+') as f: \n",
    "      f.write('FileName')\n",
    "      for i in range(64*64):\n",
    "        f.write(',pixel'+str(i))\n",
    "      f.write(',label')\n",
    "      f.write('\\n')\n",
    "    \n",
    "    # Iterate through each folder corresponding to a category\n",
    "    for category in CATEGORIES:\n",
    "        path = os.path.join(directory,category)  # create path to categories\n",
    "        class_num = CATEGORIES.index(category)  # get the classification\n",
    "        print('Processing folder {}'.format(category))\n",
    "        # Iterate through each image in folder\n",
    "        for file in tqdm(os.listdir(path)):\n",
    "          # Get the path name of the image\n",
    "          img_path = os.path.join(path, file)\n",
    "          # Open and read the image in grayscale\n",
    "          image_array = cv2.imread(img_path,cv2.IMREAD_GRAYSCALE)\n",
    "          # Resize the image\n",
    "          image_resize = cv2.resize(image_array, (IMG_SIZE, IMG_SIZE))  \n",
    "          #print('type of Image', type(Images))\n",
    "          #print('type of image', type(image))\n",
    "          # Append the image and its corresponding label to the output\n",
    "          output.append([image_resize, class_num])\n",
    "          #writing data to csv file\n",
    "          flat_pixel = (image_resize.flatten())\n",
    "          flat_pixel = \",\".join(map(str, flat_pixel))\n",
    "          #flat_pixel  = flat_pixel.reshape(-1, 1).T\n",
    "          with open('output_file.csv', 'a') as f: \n",
    "              f.write(file+',')\n",
    "              f.write(flat_pixel)\n",
    "              f.write(','+str(class_num))\n",
    "              f.write('\\n')\n",
    "        #Images = np.array(Images, dtype = 'float32')\n",
    "        #Labels = np.array(Labels, dtype = 'int32')   \n",
    "    return output"
   ]
  },
  {
   "cell_type": "code",
   "execution_count": 105,
   "metadata": {},
   "outputs": [],
   "source": [
    "'''\n",
    "This function will create csv file with header.\n",
    "Each image will have a header for pixel.\n",
    "'''\n",
    "def get_images1(directory):\n",
    "    output = []\n",
    "    print(\"Loading {}\".format(directory))\n",
    "    #open a file to write the header data \n",
    "    with open('output_file1.csv', 'w+') as f: \n",
    "      f.write('FileName,Pixel,Label\\n')\n",
    "    \n",
    "    # Iterate through each folder corresponding to a category\n",
    "    for category in CATEGORIES:\n",
    "        path = os.path.join(directory,category)  # create path to categories\n",
    "        class_num = CATEGORIES.index(category)  # get the classification\n",
    "        print('Processing folder {}'.format(category))\n",
    "        # Iterate through each image in folder\n",
    "        for file in tqdm(os.listdir(path)):\n",
    "          # Get the path name of the image\n",
    "          img_path = os.path.join(path, file)\n",
    "          # Open and read the image in grayscale\n",
    "          image_array = cv2.imread(img_path,cv2.IMREAD_GRAYSCALE)\n",
    "          # Resize the image\n",
    "          image_resize = cv2.resize(image_array, (IMG_SIZE, IMG_SIZE))  \n",
    "          #print('type of Image', type(Images))\n",
    "          #print('type of image', type(image))\n",
    "          # Append the image and its corresponding label to the output\n",
    "          output.append([image_resize, class_num])\n",
    "          #writing data to csv file\n",
    "          flat_pixel = (image_resize.flatten())\n",
    "          flat_pixel = \" \".join(map(str, flat_pixel))\n",
    "          with open('output_file1.csv', 'a') as f: \n",
    "              f.write(file+',')\n",
    "              f.write(flat_pixel)\n",
    "              f.write(','+str(class_num))\n",
    "              f.write('\\n')\n",
    "        #Images = np.array(Images, dtype = 'float32')\n",
    "        #Labels = np.array(Labels, dtype = 'int32')   \n",
    "    return output"
   ]
  },
  {
   "cell_type": "code",
   "execution_count": 106,
   "metadata": {
    "scrolled": false
   },
   "outputs": [
    {
     "name": "stderr",
     "output_type": "stream",
     "text": [
      "  1%|▏         | 20/1500 [00:00<00:07, 191.07it/s]"
     ]
    },
    {
     "name": "stdout",
     "output_type": "stream",
     "text": [
      "Loading /Users/Prab/Masters/SEM 2/5590 Python /Project/Data/Sign Language for Numbers\n",
      "Processing folder 0\n"
     ]
    },
    {
     "name": "stderr",
     "output_type": "stream",
     "text": [
      "100%|██████████| 1500/1500 [00:06<00:00, 222.69it/s]\n",
      "  1%|▏         | 20/1500 [00:00<00:07, 193.38it/s]"
     ]
    },
    {
     "name": "stdout",
     "output_type": "stream",
     "text": [
      "Processing folder 1\n"
     ]
    },
    {
     "name": "stderr",
     "output_type": "stream",
     "text": [
      "100%|██████████| 1500/1500 [00:07<00:00, 191.66it/s]\n",
      "  2%|▏         | 25/1500 [00:00<00:05, 248.22it/s]"
     ]
    },
    {
     "name": "stdout",
     "output_type": "stream",
     "text": [
      "Processing folder 2\n"
     ]
    },
    {
     "name": "stderr",
     "output_type": "stream",
     "text": [
      "100%|██████████| 1500/1500 [00:06<00:00, 238.43it/s]\n",
      "  2%|▏         | 25/1500 [00:00<00:06, 242.71it/s]"
     ]
    },
    {
     "name": "stdout",
     "output_type": "stream",
     "text": [
      "Processing folder 3\n"
     ]
    },
    {
     "name": "stderr",
     "output_type": "stream",
     "text": [
      "100%|██████████| 1500/1500 [00:05<00:00, 255.02it/s]\n",
      "  2%|▏         | 25/1500 [00:00<00:06, 245.32it/s]"
     ]
    },
    {
     "name": "stdout",
     "output_type": "stream",
     "text": [
      "Processing folder 4\n"
     ]
    },
    {
     "name": "stderr",
     "output_type": "stream",
     "text": [
      "100%|██████████| 1500/1500 [00:05<00:00, 258.17it/s]\n",
      "  2%|▏         | 23/1500 [00:00<00:06, 225.18it/s]"
     ]
    },
    {
     "name": "stdout",
     "output_type": "stream",
     "text": [
      "Processing folder 5\n"
     ]
    },
    {
     "name": "stderr",
     "output_type": "stream",
     "text": [
      "100%|██████████| 1500/1500 [00:06<00:00, 247.27it/s]\n",
      "  2%|▏         | 24/1500 [00:00<00:06, 238.54it/s]"
     ]
    },
    {
     "name": "stdout",
     "output_type": "stream",
     "text": [
      "Processing folder 6\n"
     ]
    },
    {
     "name": "stderr",
     "output_type": "stream",
     "text": [
      "100%|██████████| 1500/1500 [00:05<00:00, 263.57it/s]\n",
      "  2%|▏         | 24/1500 [00:00<00:06, 238.95it/s]"
     ]
    },
    {
     "name": "stdout",
     "output_type": "stream",
     "text": [
      "Processing folder 7\n"
     ]
    },
    {
     "name": "stderr",
     "output_type": "stream",
     "text": [
      "100%|██████████| 1500/1500 [00:05<00:00, 261.96it/s]\n",
      "  2%|▏         | 25/1500 [00:00<00:06, 241.03it/s]"
     ]
    },
    {
     "name": "stdout",
     "output_type": "stream",
     "text": [
      "Processing folder 8\n"
     ]
    },
    {
     "name": "stderr",
     "output_type": "stream",
     "text": [
      "100%|██████████| 1500/1500 [00:05<00:00, 267.47it/s]\n",
      "  2%|▏         | 25/1500 [00:00<00:05, 245.96it/s]"
     ]
    },
    {
     "name": "stdout",
     "output_type": "stream",
     "text": [
      "Processing folder 9\n"
     ]
    },
    {
     "name": "stderr",
     "output_type": "stream",
     "text": [
      "100%|██████████| 1500/1500 [00:06<00:00, 241.94it/s]\n",
      "  2%|▏         | 23/1500 [00:00<00:06, 222.03it/s]"
     ]
    },
    {
     "name": "stdout",
     "output_type": "stream",
     "text": [
      "Processing folder unknown\n"
     ]
    },
    {
     "name": "stderr",
     "output_type": "stream",
     "text": [
      "100%|██████████| 1500/1500 [00:08<00:00, 171.53it/s]\n"
     ]
    }
   ],
   "source": [
    "image_with_label = get_images1(dir)"
   ]
  },
  {
   "cell_type": "code",
   "execution_count": 107,
   "metadata": {},
   "outputs": [
    {
     "name": "stderr",
     "output_type": "stream",
     "text": [
      "  1%|▏         | 22/1500 [00:00<00:06, 215.76it/s]"
     ]
    },
    {
     "name": "stdout",
     "output_type": "stream",
     "text": [
      "Loading /Users/Prab/Masters/SEM 2/5590 Python /Project/Data/Sign Language for Numbers\n",
      "Processing folder 0\n"
     ]
    },
    {
     "name": "stderr",
     "output_type": "stream",
     "text": [
      "100%|██████████| 1500/1500 [00:05<00:00, 296.71it/s]\n",
      "  2%|▏         | 28/1500 [00:00<00:05, 278.08it/s]"
     ]
    },
    {
     "name": "stdout",
     "output_type": "stream",
     "text": [
      "Processing folder 1\n"
     ]
    },
    {
     "name": "stderr",
     "output_type": "stream",
     "text": [
      "100%|██████████| 1500/1500 [00:05<00:00, 299.35it/s]\n",
      "  2%|▏         | 29/1500 [00:00<00:05, 280.10it/s]"
     ]
    },
    {
     "name": "stdout",
     "output_type": "stream",
     "text": [
      "Processing folder 2\n"
     ]
    },
    {
     "name": "stderr",
     "output_type": "stream",
     "text": [
      "100%|██████████| 1500/1500 [00:05<00:00, 294.89it/s]\n",
      "  2%|▏         | 28/1500 [00:00<00:05, 276.79it/s]"
     ]
    },
    {
     "name": "stdout",
     "output_type": "stream",
     "text": [
      "Processing folder 3\n"
     ]
    },
    {
     "name": "stderr",
     "output_type": "stream",
     "text": [
      "100%|██████████| 1500/1500 [00:05<00:00, 296.00it/s]\n",
      "  2%|▏         | 28/1500 [00:00<00:05, 273.59it/s]"
     ]
    },
    {
     "name": "stdout",
     "output_type": "stream",
     "text": [
      "Processing folder 4\n"
     ]
    },
    {
     "name": "stderr",
     "output_type": "stream",
     "text": [
      "100%|██████████| 1500/1500 [00:05<00:00, 296.89it/s]\n",
      "  2%|▏         | 27/1500 [00:00<00:05, 266.66it/s]"
     ]
    },
    {
     "name": "stdout",
     "output_type": "stream",
     "text": [
      "Processing folder 5\n"
     ]
    },
    {
     "name": "stderr",
     "output_type": "stream",
     "text": [
      "100%|██████████| 1500/1500 [00:05<00:00, 298.17it/s]\n",
      "  2%|▏         | 29/1500 [00:00<00:05, 288.90it/s]"
     ]
    },
    {
     "name": "stdout",
     "output_type": "stream",
     "text": [
      "Processing folder 6\n"
     ]
    },
    {
     "name": "stderr",
     "output_type": "stream",
     "text": [
      "100%|██████████| 1500/1500 [00:05<00:00, 258.41it/s]\n",
      "  2%|▏         | 26/1500 [00:00<00:05, 259.04it/s]"
     ]
    },
    {
     "name": "stdout",
     "output_type": "stream",
     "text": [
      "Processing folder 7\n"
     ]
    },
    {
     "name": "stderr",
     "output_type": "stream",
     "text": [
      "100%|██████████| 1500/1500 [00:05<00:00, 271.77it/s]\n",
      "  2%|▏         | 31/1500 [00:00<00:04, 302.41it/s]"
     ]
    },
    {
     "name": "stdout",
     "output_type": "stream",
     "text": [
      "Processing folder 8\n"
     ]
    },
    {
     "name": "stderr",
     "output_type": "stream",
     "text": [
      "100%|██████████| 1500/1500 [00:05<00:00, 277.08it/s]\n",
      "  2%|▏         | 31/1500 [00:00<00:04, 300.39it/s]"
     ]
    },
    {
     "name": "stdout",
     "output_type": "stream",
     "text": [
      "Processing folder 9\n"
     ]
    },
    {
     "name": "stderr",
     "output_type": "stream",
     "text": [
      "100%|██████████| 1500/1500 [00:05<00:00, 262.89it/s]\n",
      "  2%|▏         | 24/1500 [00:00<00:06, 236.47it/s]"
     ]
    },
    {
     "name": "stdout",
     "output_type": "stream",
     "text": [
      "Processing folder unknown\n"
     ]
    },
    {
     "name": "stderr",
     "output_type": "stream",
     "text": [
      "100%|██████████| 1500/1500 [00:06<00:00, 241.06it/s]\n"
     ]
    }
   ],
   "source": [
    "image_with_label1 = get_images(dir)"
   ]
  },
  {
   "cell_type": "code",
   "execution_count": 108,
   "metadata": {},
   "outputs": [],
   "source": [
    "data  = image_with_label[0][0]"
   ]
  },
  {
   "cell_type": "code",
   "execution_count": 109,
   "metadata": {},
   "outputs": [
    {
     "data": {
      "text/plain": [
       "<matplotlib.image.AxesImage at 0x7fe372bf8110>"
      ]
     },
     "execution_count": 109,
     "metadata": {},
     "output_type": "execute_result"
    },
    {
     "data": {
      "image/png": "[encoded data removed]",
      "text/plain": [
       "<Figure size 432x288 with 1 Axes>"
      ]
     },
     "metadata": {
      "needs_background": "light"
     },
     "output_type": "display_data"
    }
   ],
   "source": [
    "plt.imshow(image_with_label[1500][0], cmap='gray')  # graph it"
   ]
  },
  {
   "cell_type": "code",
   "execution_count": 114,
   "metadata": {},
   "outputs": [],
   "source": [
    "'''\n",
    "Reading the file from csv\n",
    "'''\n",
    "data = pd.read_csv('output_file1.csv')"
   ]
  },
  {
   "cell_type": "code",
   "execution_count": 115,
   "metadata": {},
   "outputs": [
    {
     "data": {
      "text/html": [
       "<div>\n",
       "<style scoped>\n",
       "    .dataframe tbody tr th:only-of-type {\n",
       "        vertical-align: middle;\n",
       "    }\n",
       "\n",
       "    .dataframe tbody tr th {\n",
       "        vertical-align: top;\n",
       "    }\n",
       "\n",
       "    .dataframe thead th {\n",
       "        text-align: right;\n",
       "    }\n",
       "</style>\n",
       "<table border=\"1\" class=\"dataframe\">\n",
       "  <thead>\n",
       "    <tr style=\"text-align: right;\">\n",
       "      <th></th>\n",
       "      <th>FileName</th>\n",
       "      <th>Pixel</th>\n",
       "      <th>Label</th>\n",
       "    </tr>\n",
       "  </thead>\n",
       "  <tbody>\n",
       "    <tr>\n",
       "      <th>0</th>\n",
       "      <td>zero_1038.jpg</td>\n",
       "      <td>142 138 136 138 140 141 141 142 145 148 149 14...</td>\n",
       "      <td>0</td>\n",
       "    </tr>\n",
       "    <tr>\n",
       "      <th>1</th>\n",
       "      <td>zero_459.jpg</td>\n",
       "      <td>108 112 114 116 119 123 126 128 130 133 135 13...</td>\n",
       "      <td>0</td>\n",
       "    </tr>\n",
       "    <tr>\n",
       "      <th>2</th>\n",
       "      <td>zero_1010.jpg</td>\n",
       "      <td>140 138 137 138 141 144 146 147 151 153 157 15...</td>\n",
       "      <td>0</td>\n",
       "    </tr>\n",
       "    <tr>\n",
       "      <th>3</th>\n",
       "      <td>zero_471.jpg</td>\n",
       "      <td>119 122 124 126 130 132 134 136 139 142 143 14...</td>\n",
       "      <td>0</td>\n",
       "    </tr>\n",
       "    <tr>\n",
       "      <th>4</th>\n",
       "      <td>zero_317.jpg</td>\n",
       "      <td>159 166 171 175 180 182 182 182 182 182 183 18...</td>\n",
       "      <td>0</td>\n",
       "    </tr>\n",
       "  </tbody>\n",
       "</table>\n",
       "</div>"
      ],
      "text/plain": [
       "        FileName                                              Pixel  Label\n",
       "0  zero_1038.jpg  142 138 136 138 140 141 141 142 145 148 149 14...      0\n",
       "1   zero_459.jpg  108 112 114 116 119 123 126 128 130 133 135 13...      0\n",
       "2  zero_1010.jpg  140 138 137 138 141 144 146 147 151 153 157 15...      0\n",
       "3   zero_471.jpg  119 122 124 126 130 132 134 136 139 142 143 14...      0\n",
       "4   zero_317.jpg  159 166 171 175 180 182 182 182 182 182 183 18...      0"
      ]
     },
     "execution_count": 115,
     "metadata": {},
     "output_type": "execute_result"
    }
   ],
   "source": [
    "data.head()"
   ]
  },
  {
   "cell_type": "code",
   "execution_count": 117,
   "metadata": {},
   "outputs": [],
   "source": [
    "data['Pixel']=data['Pixel'].apply(lambda x:  np.array(x.split(), dtype=\"float32\"))"
   ]
  },
  {
   "cell_type": "code",
   "execution_count": 118,
   "metadata": {},
   "outputs": [
    {
     "data": {
      "text/html": [
       "<div>\n",
       "<style scoped>\n",
       "    .dataframe tbody tr th:only-of-type {\n",
       "        vertical-align: middle;\n",
       "    }\n",
       "\n",
       "    .dataframe tbody tr th {\n",
       "        vertical-align: top;\n",
       "    }\n",
       "\n",
       "    .dataframe thead th {\n",
       "        text-align: right;\n",
       "    }\n",
       "</style>\n",
       "<table border=\"1\" class=\"dataframe\">\n",
       "  <thead>\n",
       "    <tr style=\"text-align: right;\">\n",
       "      <th></th>\n",
       "      <th>FileName</th>\n",
       "      <th>Pixel</th>\n",
       "      <th>Label</th>\n",
       "    </tr>\n",
       "  </thead>\n",
       "  <tbody>\n",
       "    <tr>\n",
       "      <th>0</th>\n",
       "      <td>zero_1038.jpg</td>\n",
       "      <td>[142.0, 138.0, 136.0, 138.0, 140.0, 141.0, 141...</td>\n",
       "      <td>0</td>\n",
       "    </tr>\n",
       "    <tr>\n",
       "      <th>1</th>\n",
       "      <td>zero_459.jpg</td>\n",
       "      <td>[108.0, 112.0, 114.0, 116.0, 119.0, 123.0, 126...</td>\n",
       "      <td>0</td>\n",
       "    </tr>\n",
       "    <tr>\n",
       "      <th>2</th>\n",
       "      <td>zero_1010.jpg</td>\n",
       "      <td>[140.0, 138.0, 137.0, 138.0, 141.0, 144.0, 146...</td>\n",
       "      <td>0</td>\n",
       "    </tr>\n",
       "    <tr>\n",
       "      <th>3</th>\n",
       "      <td>zero_471.jpg</td>\n",
       "      <td>[119.0, 122.0, 124.0, 126.0, 130.0, 132.0, 134...</td>\n",
       "      <td>0</td>\n",
       "    </tr>\n",
       "    <tr>\n",
       "      <th>4</th>\n",
       "      <td>zero_317.jpg</td>\n",
       "      <td>[159.0, 166.0, 171.0, 175.0, 180.0, 182.0, 182...</td>\n",
       "      <td>0</td>\n",
       "    </tr>\n",
       "  </tbody>\n",
       "</table>\n",
       "</div>"
      ],
      "text/plain": [
       "        FileName                                              Pixel  Label\n",
       "0  zero_1038.jpg  [142.0, 138.0, 136.0, 138.0, 140.0, 141.0, 141...      0\n",
       "1   zero_459.jpg  [108.0, 112.0, 114.0, 116.0, 119.0, 123.0, 126...      0\n",
       "2  zero_1010.jpg  [140.0, 138.0, 137.0, 138.0, 141.0, 144.0, 146...      0\n",
       "3   zero_471.jpg  [119.0, 122.0, 124.0, 126.0, 130.0, 132.0, 134...      0\n",
       "4   zero_317.jpg  [159.0, 166.0, 171.0, 175.0, 180.0, 182.0, 182...      0"
      ]
     },
     "execution_count": 118,
     "metadata": {},
     "output_type": "execute_result"
    }
   ],
   "source": [
    "data.head()"
   ]
  },
  {
   "cell_type": "code",
   "execution_count": 130,
   "metadata": {},
   "outputs": [],
   "source": [
    "a =data.iloc[1500,1]\n",
    "b= a.reshape(64, 64)"
   ]
  },
  {
   "cell_type": "code",
   "execution_count": 131,
   "metadata": {},
   "outputs": [
    {
     "data": {
      "text/plain": [
       "<matplotlib.image.AxesImage at 0x7fe34fd9fd10>"
      ]
     },
     "execution_count": 131,
     "metadata": {},
     "output_type": "execute_result"
    },
    {
     "data": {
      "image/png": "[encoded data removed]",
      "text/plain": [
       "<Figure size 432x288 with 1 Axes>"
      ]
     },
     "metadata": {
      "needs_background": "light"
     },
     "output_type": "display_data"
    }
   ],
   "source": [
    "plt.imshow(b, cmap = 'gray')"
   ]
  },
  {
   "cell_type": "code",
   "execution_count": 132,
   "metadata": {},
   "outputs": [
    {
     "data": {
      "text/plain": [
       "<matplotlib.image.AxesImage at 0x7fe34fe7db10>"
      ]
     },
     "execution_count": 132,
     "metadata": {},
     "output_type": "execute_result"
    },
    {
     "data": {
      "image/png": "[encoded data removed]",
      "text/plain": [
       "<Figure size 432x288 with 1 Axes>"
      ]
     },
     "metadata": {
      "needs_background": "light"
     },
     "output_type": "display_data"
    }
   ],
   "source": [
    "plt.imshow(image_with_label[1500][0], cmap = 'gray')  # graph it"
   ]
  },
  {
   "cell_type": "code",
   "execution_count": null,
   "metadata": {},
   "outputs": [],
   "source": []
  }
 ],
 "metadata": {
  "kernelspec": {
   "display_name": "Python 3",
   "language": "python",
   "name": "python3"
  },
  "language_info": {
   "codemirror_mode": {
    "name": "ipython",
    "version": 3
   },
   "file_extension": ".py",
   "mimetype": "text/x-python",
   "name": "python",
   "nbconvert_exporter": "python",
   "pygments_lexer": "ipython3",
   "version": "3.7.6"
  }
 },
 "nbformat": 4,
 "nbformat_minor": 4
}
